{
  "metadata": {
    "kernelspec": {
      "language": "python",
      "display_name": "Python 3",
      "name": "python3"
    },
    "language_info": {
      "name": "python",
      "version": "3.10.13",
      "mimetype": "text/x-python",
      "codemirror_mode": {
        "name": "ipython",
        "version": 3
      },
      "pygments_lexer": "ipython3",
      "nbconvert_exporter": "python",
      "file_extension": ".py"
    },
    "kaggle": {
      "accelerator": "none",
      "dataSources": [
        {
          "sourceId": 21688,
          "sourceType": "datasetVersion",
          "datasetId": 16432
        }
      ],
      "dockerImageVersionId": 30746,
      "isInternetEnabled": false,
      "language": "python",
      "sourceType": "notebook",
      "isGpuEnabled": false
    },
    "colab": {
      "name": "Test Building Permit Dataset",
      "provenance": [],
      "include_colab_link": true
    }
  },
  "nbformat_minor": 0,
  "nbformat": 4,
  "cells": [
    {
      "cell_type": "markdown",
      "metadata": {
        "id": "view-in-github",
        "colab_type": "text"
      },
      "source": [
        "<a href=\"https://colab.research.google.com/github/susmitkalyan/data_analysis_test/blob/main/Test_Building_Permit_Dataset.ipynb\" target=\"_parent\"><img src=\"https://colab.research.google.com/assets/colab-badge.svg\" alt=\"Open In Colab\"/></a>"
      ]
    },
    {
      "source": [
        "\n",
        "# IMPORTANT: RUN THIS CELL IN ORDER TO IMPORT YOUR KAGGLE DATA SOURCES\n",
        "# TO THE CORRECT LOCATION (/kaggle/input) IN YOUR NOTEBOOK,\n",
        "# THEN FEEL FREE TO DELETE THIS CELL.\n",
        "# NOTE: THIS NOTEBOOK ENVIRONMENT DIFFERS FROM KAGGLE'S PYTHON\n",
        "# ENVIRONMENT SO THERE MAY BE MISSING LIBRARIES USED BY YOUR\n",
        "# NOTEBOOK.\n",
        "\n",
        "import os\n",
        "import sys\n",
        "from tempfile import NamedTemporaryFile\n",
        "from urllib.request import urlopen\n",
        "from urllib.parse import unquote, urlparse\n",
        "from urllib.error import HTTPError\n",
        "from zipfile import ZipFile\n",
        "import tarfile\n",
        "import shutil\n",
        "\n",
        "CHUNK_SIZE = 40960\n",
        "DATA_SOURCE_MAPPING = 'building-permit-applications-data:https%3A%2F%2Fstorage.googleapis.com%2Fkaggle-data-sets%2F16432%2F21688%2Fbundle%2Farchive.zip%3FX-Goog-Algorithm%3DGOOG4-RSA-SHA256%26X-Goog-Credential%3Dgcp-kaggle-com%2540kaggle-161607.iam.gserviceaccount.com%252F20240820%252Fauto%252Fstorage%252Fgoog4_request%26X-Goog-Date%3D20240820T145149Z%26X-Goog-Expires%3D259200%26X-Goog-SignedHeaders%3Dhost%26X-Goog-Signature%3D3b2194cc1fa19c08732d577510f7e86e33ffa43967c3da4a7a4a3ddd91b32148b4656e359f0e19b716d1bc07a73318e66e8eb590f81c1d17dc68070d39141747891bda327c8dc71a2c87b496d1c774ff50b9668136e1b8edea0f254f8316418b2932de8904b8236f74409df922e70fd9e9e5751d48a0915bf4080f280517770f14b66d5b50d3a23cd52dde2069f759cef0cc1e9c5132962cd698afd2d3bf29913677932442cbe842b9b543c5c3766fb7e15e281b258afe30531a44e4524ddcae26495b286cbce98367fcffa0c3e704e707bb35d755e834d30dbb63f981adaca62023b8df9ac8a3a29d485783947d5fd696f6b6c657a2d2ca624d163df3994a73'\n",
        "\n",
        "KAGGLE_INPUT_PATH='/kaggle/input'\n",
        "KAGGLE_WORKING_PATH='/kaggle/working'\n",
        "KAGGLE_SYMLINK='kaggle'\n",
        "\n",
        "!umount /kaggle/input/ 2> /dev/null\n",
        "shutil.rmtree('/kaggle/input', ignore_errors=True)\n",
        "os.makedirs(KAGGLE_INPUT_PATH, 0o777, exist_ok=True)\n",
        "os.makedirs(KAGGLE_WORKING_PATH, 0o777, exist_ok=True)\n",
        "\n",
        "try:\n",
        "  os.symlink(KAGGLE_INPUT_PATH, os.path.join(\"..\", 'input'), target_is_directory=True)\n",
        "except FileExistsError:\n",
        "  pass\n",
        "try:\n",
        "  os.symlink(KAGGLE_WORKING_PATH, os.path.join(\"..\", 'working'), target_is_directory=True)\n",
        "except FileExistsError:\n",
        "  pass\n",
        "\n",
        "for data_source_mapping in DATA_SOURCE_MAPPING.split(','):\n",
        "    directory, download_url_encoded = data_source_mapping.split(':')\n",
        "    download_url = unquote(download_url_encoded)\n",
        "    filename = urlparse(download_url).path\n",
        "    destination_path = os.path.join(KAGGLE_INPUT_PATH, directory)\n",
        "    try:\n",
        "        with urlopen(download_url) as fileres, NamedTemporaryFile() as tfile:\n",
        "            total_length = fileres.headers['content-length']\n",
        "            print(f'Downloading {directory}, {total_length} bytes compressed')\n",
        "            dl = 0\n",
        "            data = fileres.read(CHUNK_SIZE)\n",
        "            while len(data) > 0:\n",
        "                dl += len(data)\n",
        "                tfile.write(data)\n",
        "                done = int(50 * dl / int(total_length))\n",
        "                sys.stdout.write(f\"\\r[{'=' * done}{' ' * (50-done)}] {dl} bytes downloaded\")\n",
        "                sys.stdout.flush()\n",
        "                data = fileres.read(CHUNK_SIZE)\n",
        "            if filename.endswith('.zip'):\n",
        "              with ZipFile(tfile) as zfile:\n",
        "                zfile.extractall(destination_path)\n",
        "            else:\n",
        "              with tarfile.open(tfile.name) as tarfile:\n",
        "                tarfile.extractall(destination_path)\n",
        "            print(f'\\nDownloaded and uncompressed: {directory}')\n",
        "    except HTTPError as e:\n",
        "        print(f'Failed to load (likely expired) {download_url} to path {destination_path}')\n",
        "        continue\n",
        "    except OSError as e:\n",
        "        print(f'Failed to load {download_url} to path {destination_path}')\n",
        "        continue\n",
        "\n",
        "print('Data source import complete.')\n"
      ],
      "metadata": {
        "id": "Yo1o7wMvRgs3",
        "outputId": "cc2ba63d-e25b-4824-882b-0611b08268d7",
        "colab": {
          "base_uri": "https://localhost:8080/"
        }
      },
      "cell_type": "code",
      "outputs": [
        {
          "output_type": "stream",
          "name": "stdout",
          "text": [
            "Downloading building-permit-applications-data, 18892000 bytes compressed\n",
            "[==================================================] 18892000 bytes downloaded\n",
            "Downloaded and uncompressed: building-permit-applications-data\n",
            "Data source import complete.\n"
          ]
        }
      ],
      "execution_count": 2
    },
    {
      "cell_type": "code",
      "source": [
        "import os\n",
        "print(os.listdir('../input/building-permit-applications-data'))"
      ],
      "metadata": {
        "_uuid": "f1ec9661-1e8a-4049-b2cd-a6d04a6ce086",
        "_cell_guid": "fcbae00a-273d-40a5-aa5c-5e4821851626",
        "jupyter": {
          "outputs_hidden": false
        },
        "execution": {
          "iopub.status.busy": "2024-07-15T05:41:01.834924Z",
          "iopub.execute_input": "2024-07-15T05:41:01.835342Z",
          "iopub.status.idle": "2024-07-15T05:41:01.877279Z",
          "shell.execute_reply.started": "2024-07-15T05:41:01.835306Z",
          "shell.execute_reply": "2024-07-15T05:41:01.876211Z"
        },
        "trusted": true,
        "id": "nDT_zwKRRgtB",
        "outputId": "dfc52752-75b1-44f2-f4a1-308e87f3834f",
        "colab": {
          "base_uri": "https://localhost:8080/"
        }
      },
      "execution_count": 3,
      "outputs": [
        {
          "output_type": "stream",
          "name": "stdout",
          "text": [
            "['Building_Permits.csv', 'DataDictionaryBuildingPermit.xlsx']\n"
          ]
        }
      ]
    },
    {
      "cell_type": "code",
      "source": [
        "import pandas as pd\n",
        "df = pd.read_csv('../input/building-permit-applications-data/Building_Permits.csv')"
      ],
      "metadata": {
        "_uuid": "38e8e919-58cd-4b9c-ba47-2c5584ec0757",
        "_cell_guid": "396e8fd7-763e-44e2-a1d9-e344f1baa2b8",
        "jupyter": {
          "outputs_hidden": false
        },
        "execution": {
          "iopub.status.busy": "2024-07-15T05:41:01.879111Z",
          "iopub.execute_input": "2024-07-15T05:41:01.879485Z",
          "iopub.status.idle": "2024-07-15T05:41:06.220336Z",
          "shell.execute_reply.started": "2024-07-15T05:41:01.879455Z",
          "shell.execute_reply": "2024-07-15T05:41:06.219188Z"
        },
        "trusted": true,
        "id": "CsvdHEY4RgtE",
        "outputId": "1cc86d02-8cc3-4bbb-df77-372ace5c727e",
        "colab": {
          "base_uri": "https://localhost:8080/"
        }
      },
      "execution_count": 4,
      "outputs": [
        {
          "output_type": "stream",
          "name": "stderr",
          "text": [
            "<ipython-input-4-2bf95a09bb04>:2: DtypeWarning: Columns (22,32) have mixed types. Specify dtype option on import or set low_memory=False.\n",
            "  df = pd.read_csv('../input/building-permit-applications-data/Building_Permits.csv')\n"
          ]
        }
      ]
    },
    {
      "cell_type": "code",
      "source": [
        "print(\"First Few Rows of the Data Set: \\n\")\n",
        "print(df.head())"
      ],
      "metadata": {
        "_uuid": "87fda86b-5293-4fee-9e75-ddc15b58a99f",
        "_cell_guid": "58f00612-6347-4f63-ab7a-6887107fa623",
        "jupyter": {
          "outputs_hidden": false
        },
        "execution": {
          "iopub.status.busy": "2024-07-15T05:41:06.222086Z",
          "iopub.execute_input": "2024-07-15T05:41:06.222435Z",
          "iopub.status.idle": "2024-07-15T05:41:06.255867Z",
          "shell.execute_reply.started": "2024-07-15T05:41:06.222405Z",
          "shell.execute_reply": "2024-07-15T05:41:06.254494Z"
        },
        "trusted": true,
        "id": "3xaeEWX_RgtF",
        "outputId": "332ebb2f-6a15-429e-8472-8b05b75732ec",
        "colab": {
          "base_uri": "https://localhost:8080/"
        }
      },
      "execution_count": 5,
      "outputs": [
        {
          "output_type": "stream",
          "name": "stdout",
          "text": [
            "First Few Rows of the Data Set: \n",
            "\n",
            "  Permit Number  Permit Type            Permit Type Definition  \\\n",
            "0  201505065519            4                      sign - erect   \n",
            "1  201604195146            4                      sign - erect   \n",
            "2  201605278609            3  additions alterations or repairs   \n",
            "3  201611072166            8            otc alterations permit   \n",
            "4  201611283529            6                       demolitions   \n",
            "\n",
            "  Permit Creation Date Block  Lot  Street Number Street Number Suffix  \\\n",
            "0           05/06/2015  0326  023            140                  NaN   \n",
            "1           04/19/2016  0306  007            440                  NaN   \n",
            "2           05/27/2016  0595  203           1647                  NaN   \n",
            "3           11/07/2016  0156  011           1230                  NaN   \n",
            "4           11/28/2016  0342  001            950                  NaN   \n",
            "\n",
            "  Street Name Street Suffix  ...  Existing Construction Type  \\\n",
            "0       Ellis            St  ...                         3.0   \n",
            "1       Geary            St  ...                         3.0   \n",
            "2     Pacific            Av  ...                         1.0   \n",
            "3     Pacific            Av  ...                         5.0   \n",
            "4      Market            St  ...                         3.0   \n",
            "\n",
            "  Existing Construction Type Description Proposed Construction Type  \\\n",
            "0                          constr type 3                        NaN   \n",
            "1                          constr type 3                        NaN   \n",
            "2                          constr type 1                        1.0   \n",
            "3                         wood frame (5)                        5.0   \n",
            "4                          constr type 3                        NaN   \n",
            "\n",
            "  Proposed Construction Type Description Site Permit Supervisor District  \\\n",
            "0                                    NaN         NaN                 3.0   \n",
            "1                                    NaN         NaN                 3.0   \n",
            "2                          constr type 1         NaN                 3.0   \n",
            "3                         wood frame (5)         NaN                 3.0   \n",
            "4                                    NaN         NaN                 6.0   \n",
            "\n",
            "  Neighborhoods - Analysis Boundaries  Zipcode  \\\n",
            "0                          Tenderloin  94102.0   \n",
            "1                          Tenderloin  94102.0   \n",
            "2                        Russian Hill  94109.0   \n",
            "3                            Nob Hill  94109.0   \n",
            "4                          Tenderloin  94102.0   \n",
            "\n",
            "                                    Location      Record ID  \n",
            "0  (37.785719256680785, -122.40852313194863)  1380611233945  \n",
            "1   (37.78733980600732, -122.41063199757738)  1420164406718  \n",
            "2    (37.7946573324287, -122.42232562979227)  1424856504716  \n",
            "3   (37.79595867909168, -122.41557405519474)  1443574295566  \n",
            "4   (37.78315261897309, -122.40950883997789)   144548169992  \n",
            "\n",
            "[5 rows x 43 columns]\n"
          ]
        }
      ]
    },
    {
      "cell_type": "code",
      "source": [
        "print(\"Summary: \\n\")\n",
        "print(df.describe())"
      ],
      "metadata": {
        "_uuid": "1b280b2e-ed37-4e83-af8a-005b7e8e0173",
        "_cell_guid": "cb271973-f256-49f5-b1fc-971e904713d3",
        "jupyter": {
          "outputs_hidden": false
        },
        "execution": {
          "iopub.status.busy": "2024-07-15T05:41:06.259053Z",
          "iopub.execute_input": "2024-07-15T05:41:06.259821Z",
          "iopub.status.idle": "2024-07-15T05:41:06.473327Z",
          "shell.execute_reply.started": "2024-07-15T05:41:06.259777Z",
          "shell.execute_reply": "2024-07-15T05:41:06.472287Z"
        },
        "trusted": true,
        "id": "GsbgwGRVRgtG",
        "outputId": "b0e07ff0-1f45-4d08-a1cb-de943d5cd5fc",
        "colab": {
          "base_uri": "https://localhost:8080/"
        }
      },
      "execution_count": 6,
      "outputs": [
        {
          "output_type": "stream",
          "name": "stdout",
          "text": [
            "Summary: \n",
            "\n",
            "         Permit Type  Street Number          Unit  Number of Existing Stories  \\\n",
            "count  198900.000000  198900.000000  29479.000000               156116.000000   \n",
            "mean        7.522323    1121.728944     78.517182                    5.705773   \n",
            "std         1.457451    1135.768948    326.981324                    8.613455   \n",
            "min         1.000000       0.000000      0.000000                    0.000000   \n",
            "25%         8.000000     235.000000      0.000000                    2.000000   \n",
            "50%         8.000000     710.000000      0.000000                    3.000000   \n",
            "75%         8.000000    1700.000000      1.000000                    4.000000   \n",
            "max         8.000000    8400.000000   6004.000000                   78.000000   \n",
            "\n",
            "       Number of Proposed Stories  Estimated Cost  Revised Cost  \\\n",
            "count               156032.000000    1.608340e+05  1.928340e+05   \n",
            "mean                     5.745043    1.689554e+05  1.328562e+05   \n",
            "std                      8.613284    3.630386e+06  3.584903e+06   \n",
            "min                      0.000000    1.000000e+00  0.000000e+00   \n",
            "25%                      2.000000    3.300000e+03  1.000000e+00   \n",
            "50%                      3.000000    1.100000e+04  7.000000e+03   \n",
            "75%                      4.000000    3.500000e+04  2.870750e+04   \n",
            "max                     78.000000    5.379586e+08  7.805000e+08   \n",
            "\n",
            "       Existing Units  Proposed Units       Plansets  \\\n",
            "count   147362.000000   147989.000000  161591.000000   \n",
            "mean        15.666164       16.510950       1.274650   \n",
            "std         74.476321       75.220444      22.407345   \n",
            "min          0.000000        0.000000       0.000000   \n",
            "25%          1.000000        1.000000       0.000000   \n",
            "50%          1.000000        2.000000       2.000000   \n",
            "75%          4.000000        4.000000       2.000000   \n",
            "max       1907.000000     1911.000000    9000.000000   \n",
            "\n",
            "       Existing Construction Type  Proposed Construction Type  \\\n",
            "count               155534.000000               155738.000000   \n",
            "mean                     4.072878                    4.089529   \n",
            "std                      1.585756                    1.578766   \n",
            "min                      1.000000                    1.000000   \n",
            "25%                      3.000000                    3.000000   \n",
            "50%                      5.000000                    5.000000   \n",
            "75%                      5.000000                    5.000000   \n",
            "max                      5.000000                    5.000000   \n",
            "\n",
            "       Supervisor District        Zipcode     Record ID  \n",
            "count        197183.000000  197184.000000  1.989000e+05  \n",
            "mean              5.538403   94115.500558  1.162048e+12  \n",
            "std               2.887041       9.270131  4.918215e+11  \n",
            "min               1.000000   94102.000000  1.293532e+10  \n",
            "25%               3.000000   94109.000000  1.308567e+12  \n",
            "50%               6.000000   94114.000000  1.371840e+12  \n",
            "75%               8.000000   94122.000000  1.435000e+12  \n",
            "max              11.000000   94158.000000  1.498342e+12  \n"
          ]
        }
      ]
    },
    {
      "cell_type": "code",
      "source": [
        "print(\"Info:\\n\")\n",
        "print(df.info())"
      ],
      "metadata": {
        "_uuid": "9f9d766d-0596-4dd2-be01-0371232a4cf6",
        "_cell_guid": "2c114f11-1700-44b9-b99e-af5410aca30a",
        "jupyter": {
          "outputs_hidden": false
        },
        "execution": {
          "iopub.status.busy": "2024-07-15T05:41:06.474615Z",
          "iopub.execute_input": "2024-07-15T05:41:06.474931Z",
          "iopub.status.idle": "2024-07-15T05:41:06.860237Z",
          "shell.execute_reply.started": "2024-07-15T05:41:06.474904Z",
          "shell.execute_reply": "2024-07-15T05:41:06.85821Z"
        },
        "trusted": true,
        "id": "Dg3Qj4TXRgtH",
        "outputId": "1bea3bd5-8582-4610-e478-80e13fd1c7d2",
        "colab": {
          "base_uri": "https://localhost:8080/"
        }
      },
      "execution_count": 7,
      "outputs": [
        {
          "output_type": "stream",
          "name": "stdout",
          "text": [
            "Info:\n",
            "\n",
            "<class 'pandas.core.frame.DataFrame'>\n",
            "RangeIndex: 198900 entries, 0 to 198899\n",
            "Data columns (total 43 columns):\n",
            " #   Column                                  Non-Null Count   Dtype  \n",
            "---  ------                                  --------------   -----  \n",
            " 0   Permit Number                           198900 non-null  object \n",
            " 1   Permit Type                             198900 non-null  int64  \n",
            " 2   Permit Type Definition                  198900 non-null  object \n",
            " 3   Permit Creation Date                    198900 non-null  object \n",
            " 4   Block                                   198900 non-null  object \n",
            " 5   Lot                                     198900 non-null  object \n",
            " 6   Street Number                           198900 non-null  int64  \n",
            " 7   Street Number Suffix                    2216 non-null    object \n",
            " 8   Street Name                             198900 non-null  object \n",
            " 9   Street Suffix                           196132 non-null  object \n",
            " 10  Unit                                    29479 non-null   float64\n",
            " 11  Unit Suffix                             1961 non-null    object \n",
            " 12  Description                             198610 non-null  object \n",
            " 13  Current Status                          198900 non-null  object \n",
            " 14  Current Status Date                     198900 non-null  object \n",
            " 15  Filed Date                              198900 non-null  object \n",
            " 16  Issued Date                             183960 non-null  object \n",
            " 17  Completed Date                          97191 non-null   object \n",
            " 18  First Construction Document Date        183954 non-null  object \n",
            " 19  Structural Notification                 6922 non-null    object \n",
            " 20  Number of Existing Stories              156116 non-null  float64\n",
            " 21  Number of Proposed Stories              156032 non-null  float64\n",
            " 22  Voluntary Soft-Story Retrofit           35 non-null      object \n",
            " 23  Fire Only Permit                        18827 non-null   object \n",
            " 24  Permit Expiration Date                  147020 non-null  object \n",
            " 25  Estimated Cost                          160834 non-null  float64\n",
            " 26  Revised Cost                            192834 non-null  float64\n",
            " 27  Existing Use                            157786 non-null  object \n",
            " 28  Existing Units                          147362 non-null  float64\n",
            " 29  Proposed Use                            156461 non-null  object \n",
            " 30  Proposed Units                          147989 non-null  float64\n",
            " 31  Plansets                                161591 non-null  float64\n",
            " 32  TIDF Compliance                         2 non-null       object \n",
            " 33  Existing Construction Type              155534 non-null  float64\n",
            " 34  Existing Construction Type Description  155534 non-null  object \n",
            " 35  Proposed Construction Type              155738 non-null  float64\n",
            " 36  Proposed Construction Type Description  155738 non-null  object \n",
            " 37  Site Permit                             5359 non-null    object \n",
            " 38  Supervisor District                     197183 non-null  float64\n",
            " 39  Neighborhoods - Analysis Boundaries     197175 non-null  object \n",
            " 40  Zipcode                                 197184 non-null  float64\n",
            " 41  Location                                197200 non-null  object \n",
            " 42  Record ID                               198900 non-null  int64  \n",
            "dtypes: float64(12), int64(3), object(28)\n",
            "memory usage: 65.3+ MB\n",
            "None\n"
          ]
        }
      ]
    },
    {
      "cell_type": "code",
      "source": [
        "print('Removing rows with missing Estimated Cost and Revised Cost values.')\n",
        "rows_before = df.shape[0]\n",
        "print(\"Rows before Cleaning:\",rows_before)\n",
        "df_cleaned = df.dropna(subset=['Estimated Cost','Revised Cost','Site Permit'])\n",
        "rows_cleaned = df_cleaned.shape[0]\n",
        "print(\"Rows after Cleaning:\",rows_cleaned)"
      ],
      "metadata": {
        "_uuid": "2f656b9a-8443-4e99-8b52-d0a746677833",
        "_cell_guid": "0fb4c4db-4a96-4f4c-99c9-7cc6ad7428bc",
        "jupyter": {
          "outputs_hidden": false
        },
        "execution": {
          "iopub.status.busy": "2024-07-15T05:41:06.861915Z",
          "iopub.execute_input": "2024-07-15T05:41:06.862398Z",
          "iopub.status.idle": "2024-07-15T05:41:06.893193Z",
          "shell.execute_reply.started": "2024-07-15T05:41:06.862351Z",
          "shell.execute_reply": "2024-07-15T05:41:06.891736Z"
        },
        "trusted": true,
        "id": "jN8OtFJ2RgtM",
        "outputId": "0626e3da-5d6b-445c-eb94-a089c4f169e6",
        "colab": {
          "base_uri": "https://localhost:8080/"
        }
      },
      "execution_count": 8,
      "outputs": [
        {
          "output_type": "stream",
          "name": "stdout",
          "text": [
            "Removing rows with missing Estimated Cost and Revised Cost values.\n",
            "Rows before Cleaning: 198900\n",
            "Rows after Cleaning: 3440\n"
          ]
        }
      ]
    },
    {
      "cell_type": "code",
      "source": [
        "print(\"Rows with Zero before filling:\\n\")\n",
        "print(df_cleaned[df_cleaned.isnull().any(axis=1)])"
      ],
      "metadata": {
        "_uuid": "4a05ce30-b404-4dae-b254-40e039602352",
        "_cell_guid": "84441eb7-69e3-464f-b181-acfdf4e86a1f",
        "jupyter": {
          "outputs_hidden": false
        },
        "execution": {
          "iopub.status.busy": "2024-07-15T05:41:06.894598Z",
          "iopub.execute_input": "2024-07-15T05:41:06.895026Z",
          "iopub.status.idle": "2024-07-15T05:41:06.926165Z",
          "shell.execute_reply.started": "2024-07-15T05:41:06.894994Z",
          "shell.execute_reply": "2024-07-15T05:41:06.924895Z"
        },
        "trusted": true,
        "id": "QCpHOMs2RgtO",
        "outputId": "049eed8c-2f03-4565-d189-2cfa4d4b3833",
        "colab": {
          "base_uri": "https://localhost:8080/"
        }
      },
      "execution_count": 9,
      "outputs": [
        {
          "output_type": "stream",
          "name": "stdout",
          "text": [
            "Rows with Zero before filling:\n",
            "\n",
            "       Permit Number  Permit Type            Permit Type Definition  \\\n",
            "176     201707242729            1                  new construction   \n",
            "193     201708023634            1                  new construction   \n",
            "583     201301037112            3  additions alterations or repairs   \n",
            "767     201301047264            2       new construction wood frame   \n",
            "808     201301047294            3  additions alterations or repairs   \n",
            "...              ...          ...                               ...   \n",
            "196886  201607011423            3  additions alterations or repairs   \n",
            "196887  201607011423            3  additions alterations or repairs   \n",
            "197056  201601207494            2       new construction wood frame   \n",
            "198851  201504153737            3  additions alterations or repairs   \n",
            "198852  201504153735            2       new construction wood frame   \n",
            "\n",
            "       Permit Creation Date Block   Lot  Street Number Street Number Suffix  \\\n",
            "176              07/24/2017  3794   003            800                  NaN   \n",
            "193              08/02/2017  1094   001           2675                  NaN   \n",
            "583              01/03/2013  3077   035             54                  NaN   \n",
            "767              01/04/2013  6415   022           1310                    V   \n",
            "808              01/04/2013  7519   014            865                  NaN   \n",
            "...                     ...   ...   ...            ...                  ...   \n",
            "196886           07/01/2016  6597  007S            140                    A   \n",
            "196887           07/01/2016  6597  007S            140                    B   \n",
            "197056           01/20/2016  5550   040            278                  NaN   \n",
            "198851           04/15/2015  6685   049            240                    A   \n",
            "198852           04/15/2015  6685   049            240                  NaN   \n",
            "\n",
            "        Street Name Street Suffix  ...  Existing Construction Type  \\\n",
            "176            02nd            St  ...                         NaN   \n",
            "193           Geary            Bl  ...                         NaN   \n",
            "583     San Jacinto            Wy  ...                         5.0   \n",
            "767          Geneva            Av  ...                         NaN   \n",
            "808          Duncan            St  ...                         5.0   \n",
            "...             ...           ...  ...                         ...   \n",
            "196886      Tiffany            Av  ...                         5.0   \n",
            "196887      Tiffany            Av  ...                         5.0   \n",
            "197056       Ripley            St  ...                         NaN   \n",
            "198851      Chenery            St  ...                         5.0   \n",
            "198852      Chenery            St  ...                         NaN   \n",
            "\n",
            "       Existing Construction Type Description Proposed Construction Type  \\\n",
            "176                                       NaN                        1.0   \n",
            "193                                       NaN                        1.0   \n",
            "583                            wood frame (5)                        5.0   \n",
            "767                                       NaN                        5.0   \n",
            "808                            wood frame (5)                        5.0   \n",
            "...                                       ...                        ...   \n",
            "196886                         wood frame (5)                        5.0   \n",
            "196887                         wood frame (5)                        5.0   \n",
            "197056                                    NaN                        5.0   \n",
            "198851                         wood frame (5)                        5.0   \n",
            "198852                                    NaN                        5.0   \n",
            "\n",
            "       Proposed Construction Type Description Site Permit Supervisor District  \\\n",
            "176                             constr type 1           Y                 6.0   \n",
            "193                             constr type 1           Y                 2.0   \n",
            "583                            wood frame (5)           Y                 7.0   \n",
            "767                            wood frame (5)           Y                11.0   \n",
            "808                            wood frame (5)           Y                 8.0   \n",
            "...                                       ...         ...                 ...   \n",
            "196886                         wood frame (5)           Y                 8.0   \n",
            "196887                         wood frame (5)           Y                 8.0   \n",
            "197056                         wood frame (5)           Y                 9.0   \n",
            "198851                         wood frame (5)           Y                 8.0   \n",
            "198852                         wood frame (5)           Y                 8.0   \n",
            "\n",
            "       Neighborhoods - Analysis Boundaries  Zipcode  \\\n",
            "176                            Mission Bay  94107.0   \n",
            "193                      Lone Mountain/USF  94115.0   \n",
            "583                     West of Twin Peaks  94127.0   \n",
            "767                              Excelsior  94112.0   \n",
            "808                             Noe Valley  94131.0   \n",
            "...                                    ...      ...   \n",
            "196886                      Bernal Heights  94110.0   \n",
            "196887                      Bernal Heights  94110.0   \n",
            "197056                      Bernal Heights  94110.0   \n",
            "198851                           Glen Park  94131.0   \n",
            "198852                           Glen Park  94131.0   \n",
            "\n",
            "                                         Location      Record ID  \n",
            "176     (37.778471641499934, -122.38954138202004)  1471623167863  \n",
            "193      (37.781833472205996, -122.4457308481205)   147295789456  \n",
            "583      (37.73382213394958, -122.46326158518492)  1292213151667  \n",
            "767       (37.7131015368485, -122.43440876409724)  1292403202611  \n",
            "808      (37.745100048535534, -122.4393293596936)  1292444227400  \n",
            "...                                           ...            ...  \n",
            "196886   (37.74499241554082, -122.42163861138275)  1496229510697  \n",
            "196887   (37.74499241554082, -122.42163861138275)  1496230510696  \n",
            "197056    (37.74406962246269, -122.4091348903256)  1496414510702  \n",
            "198851   (37.73832420066468, -122.42656228166192)  1498307510751  \n",
            "198852   (37.73832420066468, -122.42656228166192)  1498308505397  \n",
            "\n",
            "[3440 rows x 43 columns]\n"
          ]
        }
      ]
    },
    {
      "cell_type": "code",
      "source": [
        "print(\"Filling missing values with 0:\\n\")\n",
        "df_filled = df_cleaned.fillna(0)\n",
        "print(df_filled[df_filled.isnull().any(axis=1)])"
      ],
      "metadata": {
        "_uuid": "6a9588f1-b532-4e41-909b-6381c8407800",
        "_cell_guid": "0b09d8fc-c877-467b-a8d4-bd090b85ac4d",
        "jupyter": {
          "outputs_hidden": false
        },
        "execution": {
          "iopub.status.busy": "2024-07-15T05:41:06.927746Z",
          "iopub.execute_input": "2024-07-15T05:41:06.928099Z",
          "iopub.status.idle": "2024-07-15T05:41:06.962284Z",
          "shell.execute_reply.started": "2024-07-15T05:41:06.928066Z",
          "shell.execute_reply": "2024-07-15T05:41:06.961192Z"
        },
        "trusted": true,
        "id": "Wpva38qjRgtP",
        "outputId": "af49144e-259d-444b-b096-3337cea0f71b",
        "colab": {
          "base_uri": "https://localhost:8080/"
        }
      },
      "execution_count": 10,
      "outputs": [
        {
          "output_type": "stream",
          "name": "stdout",
          "text": [
            "Filling missing values with 0:\n",
            "\n",
            "Empty DataFrame\n",
            "Columns: [Permit Number, Permit Type, Permit Type Definition, Permit Creation Date, Block, Lot, Street Number, Street Number Suffix, Street Name, Street Suffix, Unit, Unit Suffix, Description, Current Status, Current Status Date, Filed Date, Issued Date, Completed Date, First Construction Document Date, Structural Notification, Number of Existing Stories, Number of Proposed Stories, Voluntary Soft-Story Retrofit, Fire Only Permit, Permit Expiration Date, Estimated Cost, Revised Cost, Existing Use, Existing Units, Proposed Use, Proposed Units, Plansets, TIDF Compliance, Existing Construction Type, Existing Construction Type Description, Proposed Construction Type, Proposed Construction Type Description, Site Permit, Supervisor District, Neighborhoods - Analysis Boundaries, Zipcode, Location, Record ID]\n",
            "Index: []\n",
            "\n",
            "[0 rows x 43 columns]\n"
          ]
        }
      ]
    },
    {
      "cell_type": "code",
      "source": [
        "threshold_value = 15\n",
        "df_filtered = df_filled[df_filled['Number of Existing Stories'] >= threshold_value]\n",
        "rows_filled = df_filled.shape[0]\n",
        "rows_filtered = df_filtered.shape[0]\n",
        "print(\"No. of Rows after Fill:\",rows_filled)\n",
        "print(\"No. of Rows after Filter:\",rows_filtered)\n",
        "print(\"Rows after Filter:\\n\\n\",df_filtered)"
      ],
      "metadata": {
        "_uuid": "35397196-f37e-44e2-bc1f-0421b77b041f",
        "_cell_guid": "00c3796b-85da-460e-9cb2-66bd921bdbc2",
        "jupyter": {
          "outputs_hidden": false
        },
        "execution": {
          "iopub.status.busy": "2024-07-15T05:41:06.963779Z",
          "iopub.execute_input": "2024-07-15T05:41:06.964187Z",
          "iopub.status.idle": "2024-07-15T05:41:06.985683Z",
          "shell.execute_reply.started": "2024-07-15T05:41:06.964151Z",
          "shell.execute_reply": "2024-07-15T05:41:06.984206Z"
        },
        "trusted": true,
        "id": "LkoMi4q3RgtR",
        "outputId": "a6856df8-dab7-4e5b-db5a-578b6188570c",
        "colab": {
          "base_uri": "https://localhost:8080/"
        }
      },
      "execution_count": 11,
      "outputs": [
        {
          "output_type": "stream",
          "name": "stdout",
          "text": [
            "No. of Rows after Fill: 3440\n",
            "No. of Rows after Filter: 13\n",
            "Rows after Filter:\n",
            "\n",
            "        Permit Number  Permit Type            Permit Type Definition  \\\n",
            "33959   201312164258            3  additions alterations or repairs   \n",
            "45138   201404163418            3  additions alterations or repairs   \n",
            "45139   201404163418            3  additions alterations or repairs   \n",
            "55251   201407211686            3  additions alterations or repairs   \n",
            "55739   201407242073            3  additions alterations or repairs   \n",
            "55964   201407282260            3  additions alterations or repairs   \n",
            "55965   201407282260            3  additions alterations or repairs   \n",
            "73516   201501226451            3  additions alterations or repairs   \n",
            "73517   201501226451            3  additions alterations or repairs   \n",
            "73518   201501226451            3  additions alterations or repairs   \n",
            "73519   201501226451            3  additions alterations or repairs   \n",
            "89414   201506189323            3  additions alterations or repairs   \n",
            "171897  201506058287            3  additions alterations or repairs   \n",
            "\n",
            "       Permit Creation Date Block  Lot  Street Number Street Number Suffix  \\\n",
            "33959            12/16/2013  0295  016            345                    0   \n",
            "45138            04/16/2014  3719  011            181                    0   \n",
            "45139            04/16/2014  3719  010            183                    0   \n",
            "55251            07/21/2014  0263  011            101                    0   \n",
            "55739            07/24/2014  3507  040           1455                    0   \n",
            "55964            07/28/2014  3706  251            765                    0   \n",
            "55965            07/28/2014  3706  252            765                    0   \n",
            "73516            01/22/2015  0813  007           1390                    0   \n",
            "73517            01/22/2015  0813  008           1390                    0   \n",
            "73518            01/22/2015  0813  009           1390                    0   \n",
            "73519            01/22/2015  0813  010           1390                    0   \n",
            "89414            06/18/2015  3701  065           1275                    0   \n",
            "171897           06/05/2015  3701  065           1275                    0   \n",
            "\n",
            "       Street Name Street Suffix  ...  Existing Construction Type  \\\n",
            "33959     Stockton            St  ...                         1.0   \n",
            "45138      Fremont            St  ...                         1.0   \n",
            "45139      Fremont            St  ...                         1.0   \n",
            "55251   California            St  ...                         1.0   \n",
            "55739       Market            St  ...                         1.0   \n",
            "55964       Market            St  ...                         1.0   \n",
            "55965       Market            St  ...                         1.0   \n",
            "73516       Market            St  ...                         1.0   \n",
            "73517       Market            St  ...                         1.0   \n",
            "73518       Market            St  ...                         1.0   \n",
            "73519       Market            St  ...                         1.0   \n",
            "89414       Market            St  ...                         1.0   \n",
            "171897      Market            St  ...                         1.0   \n",
            "\n",
            "       Existing Construction Type Description Proposed Construction Type  \\\n",
            "33959                           constr type 1                        1.0   \n",
            "45138                           constr type 1                        1.0   \n",
            "45139                           constr type 1                        1.0   \n",
            "55251                           constr type 1                        1.0   \n",
            "55739                           constr type 1                        1.0   \n",
            "55964                           constr type 1                        1.0   \n",
            "55965                           constr type 1                        1.0   \n",
            "73516                           constr type 1                        1.0   \n",
            "73517                           constr type 1                        1.0   \n",
            "73518                           constr type 1                        1.0   \n",
            "73519                           constr type 1                        1.0   \n",
            "89414                           constr type 1                        1.0   \n",
            "171897                          constr type 1                        1.0   \n",
            "\n",
            "       Proposed Construction Type Description Site Permit Supervisor District  \\\n",
            "33959                           constr type 1           Y                 3.0   \n",
            "45138                           constr type 1           Y                 6.0   \n",
            "45139                           constr type 1           Y                 6.0   \n",
            "55251                           constr type 1           Y                 3.0   \n",
            "55739                           constr type 1           Y                 6.0   \n",
            "55964                           constr type 1           Y                 6.0   \n",
            "55965                           constr type 1           Y                 6.0   \n",
            "73516                           constr type 1           Y                 6.0   \n",
            "73517                           constr type 1           Y                 6.0   \n",
            "73518                           constr type 1           Y                 6.0   \n",
            "73519                           constr type 1           Y                 6.0   \n",
            "89414                           constr type 1           Y                 6.0   \n",
            "171897                          constr type 1           Y                 6.0   \n",
            "\n",
            "       Neighborhoods - Analysis Boundaries  Zipcode  \\\n",
            "33959       Financial District/South Beach  94108.0   \n",
            "45138       Financial District/South Beach  94105.0   \n",
            "45139       Financial District/South Beach  94105.0   \n",
            "55251       Financial District/South Beach  94111.0   \n",
            "55739                      South of Market  94103.0   \n",
            "55964       Financial District/South Beach  94103.0   \n",
            "55965       Financial District/South Beach  94103.0   \n",
            "73516                           Tenderloin  94102.0   \n",
            "73517                           Tenderloin  94102.0   \n",
            "73518                           Tenderloin  94102.0   \n",
            "73519                           Tenderloin  94102.0   \n",
            "89414                      South of Market  94103.0   \n",
            "171897                     South of Market  94103.0   \n",
            "\n",
            "                                         Location      Record ID  \n",
            "33959     (37.7889220191042, -122.40718205137844)  1327196412943  \n",
            "45138    (37.78980056380927, -122.39532706257731)  1338890358581  \n",
            "45139   (37.789642439733605, -122.39522078848411)  1338891164656  \n",
            "55251    (37.79294896659241, -122.39809861435491)   134947266081  \n",
            "55739     (37.77523036414975, -122.4174703200545)  1349973394002  \n",
            "55964      (37.786217333195, -122.40430095367158)  1350204435330  \n",
            "55965      (37.786217333195, -122.40430095367158)  1350205435331  \n",
            "73516    (37.77714337988543, -122.41722981059696)  1368645469167  \n",
            "73517    (37.77714337988543, -122.41722981059696)  1368646469168  \n",
            "73518    (37.77714337988543, -122.41722981059696)  1368647469169  \n",
            "73519    (37.77714337988543, -122.41722981059696)  1368648469170  \n",
            "89414    (37.77752582760235, -122.41537603649628)  1385587458145  \n",
            "171897   (37.77752582760235, -122.41537603649628)  1384214458145  \n",
            "\n",
            "[13 rows x 43 columns]\n"
          ]
        }
      ]
    },
    {
      "cell_type": "code",
      "source": [
        "## Printing the last 5 Rows of a Data Set\n",
        "print(df_filtered.tail())"
      ],
      "metadata": {
        "_uuid": "480929e7-bc2c-4e64-832d-4a7621ea2cd6",
        "_cell_guid": "d7d3265e-f4cb-46be-a0e2-d1bad677d12b",
        "jupyter": {
          "outputs_hidden": false
        },
        "execution": {
          "iopub.status.busy": "2024-07-15T05:41:06.990666Z",
          "iopub.execute_input": "2024-07-15T05:41:06.991183Z",
          "iopub.status.idle": "2024-07-15T05:41:07.010855Z",
          "shell.execute_reply.started": "2024-07-15T05:41:06.991139Z",
          "shell.execute_reply": "2024-07-15T05:41:07.009348Z"
        },
        "trusted": true,
        "id": "cFqQ4wAzRgtS",
        "outputId": "932911c2-de7d-4e42-9789-5975613fcb01",
        "colab": {
          "base_uri": "https://localhost:8080/"
        }
      },
      "execution_count": 12,
      "outputs": [
        {
          "output_type": "stream",
          "name": "stdout",
          "text": [
            "       Permit Number  Permit Type            Permit Type Definition  \\\n",
            "73517   201501226451            3  additions alterations or repairs   \n",
            "73518   201501226451            3  additions alterations or repairs   \n",
            "73519   201501226451            3  additions alterations or repairs   \n",
            "89414   201506189323            3  additions alterations or repairs   \n",
            "171897  201506058287            3  additions alterations or repairs   \n",
            "\n",
            "       Permit Creation Date Block  Lot  Street Number Street Number Suffix  \\\n",
            "73517            01/22/2015  0813  008           1390                    0   \n",
            "73518            01/22/2015  0813  009           1390                    0   \n",
            "73519            01/22/2015  0813  010           1390                    0   \n",
            "89414            06/18/2015  3701  065           1275                    0   \n",
            "171897           06/05/2015  3701  065           1275                    0   \n",
            "\n",
            "       Street Name Street Suffix  ...  Existing Construction Type  \\\n",
            "73517       Market            St  ...                         1.0   \n",
            "73518       Market            St  ...                         1.0   \n",
            "73519       Market            St  ...                         1.0   \n",
            "89414       Market            St  ...                         1.0   \n",
            "171897      Market            St  ...                         1.0   \n",
            "\n",
            "       Existing Construction Type Description Proposed Construction Type  \\\n",
            "73517                           constr type 1                        1.0   \n",
            "73518                           constr type 1                        1.0   \n",
            "73519                           constr type 1                        1.0   \n",
            "89414                           constr type 1                        1.0   \n",
            "171897                          constr type 1                        1.0   \n",
            "\n",
            "       Proposed Construction Type Description Site Permit Supervisor District  \\\n",
            "73517                           constr type 1           Y                 6.0   \n",
            "73518                           constr type 1           Y                 6.0   \n",
            "73519                           constr type 1           Y                 6.0   \n",
            "89414                           constr type 1           Y                 6.0   \n",
            "171897                          constr type 1           Y                 6.0   \n",
            "\n",
            "       Neighborhoods - Analysis Boundaries  Zipcode  \\\n",
            "73517                           Tenderloin  94102.0   \n",
            "73518                           Tenderloin  94102.0   \n",
            "73519                           Tenderloin  94102.0   \n",
            "89414                      South of Market  94103.0   \n",
            "171897                     South of Market  94103.0   \n",
            "\n",
            "                                        Location      Record ID  \n",
            "73517   (37.77714337988543, -122.41722981059696)  1368646469168  \n",
            "73518   (37.77714337988543, -122.41722981059696)  1368647469169  \n",
            "73519   (37.77714337988543, -122.41722981059696)  1368648469170  \n",
            "89414   (37.77752582760235, -122.41537603649628)  1385587458145  \n",
            "171897  (37.77752582760235, -122.41537603649628)  1384214458145  \n",
            "\n",
            "[5 rows x 43 columns]\n"
          ]
        }
      ]
    },
    {
      "cell_type": "code",
      "source": [
        "import numpy as np"
      ],
      "metadata": {
        "_uuid": "a8571f19-a84b-4159-b9f3-c11938f8f226",
        "_cell_guid": "1168f102-c902-48e0-8104-66aec4ee573e",
        "jupyter": {
          "outputs_hidden": false
        },
        "execution": {
          "iopub.status.busy": "2024-07-15T05:41:07.012252Z",
          "iopub.execute_input": "2024-07-15T05:41:07.012639Z",
          "iopub.status.idle": "2024-07-15T05:41:07.026243Z",
          "shell.execute_reply.started": "2024-07-15T05:41:07.012607Z",
          "shell.execute_reply": "2024-07-15T05:41:07.023855Z"
        },
        "trusted": true,
        "id": "VVdo141ZRgtS"
      },
      "execution_count": 13,
      "outputs": []
    },
    {
      "cell_type": "code",
      "source": [
        "estimated_cost = df_filtered['Estimated Cost'].to_numpy()\n",
        "revised_cost = df_filtered['Revised Cost'].to_numpy()\n",
        "existing_units = df_filtered['Existing Units'].to_numpy()\n",
        "proposed_units = df_filtered['Proposed Units'].to_numpy()\n",
        "existing_stories = df_filtered['Number of Existing Stories'].to_numpy()\n",
        "proposed_stories = df_filtered['Number of Proposed Stories'].to_numpy()"
      ],
      "metadata": {
        "_uuid": "f31cce90-1988-4efe-8c87-0eae853286f7",
        "_cell_guid": "f8429a52-08cf-426e-85f1-4f315455d763",
        "jupyter": {
          "outputs_hidden": false
        },
        "execution": {
          "iopub.status.busy": "2024-07-15T05:41:07.027996Z",
          "iopub.execute_input": "2024-07-15T05:41:07.028497Z",
          "iopub.status.idle": "2024-07-15T05:41:07.040573Z",
          "shell.execute_reply.started": "2024-07-15T05:41:07.028451Z",
          "shell.execute_reply": "2024-07-15T05:41:07.039031Z"
        },
        "trusted": true,
        "id": "G2ZV4dBrRgtT"
      },
      "execution_count": 14,
      "outputs": []
    },
    {
      "cell_type": "code",
      "source": [
        "# Element-wise Substraction\n",
        "cost_diff = np.subtract(revised_cost, estimated_cost)\n",
        "print(cost_diff)"
      ],
      "metadata": {
        "_uuid": "c421b375-5536-4225-98c2-a3e8f5173156",
        "_cell_guid": "dbdce107-3e00-45c3-b877-e562416b6bb4",
        "jupyter": {
          "outputs_hidden": false
        },
        "execution": {
          "iopub.status.busy": "2024-07-15T05:41:07.043017Z",
          "iopub.execute_input": "2024-07-15T05:41:07.043485Z",
          "iopub.status.idle": "2024-07-15T05:41:07.055891Z",
          "shell.execute_reply.started": "2024-07-15T05:41:07.043442Z",
          "shell.execute_reply": "2024-07-15T05:41:07.053239Z"
        },
        "trusted": true,
        "id": "18IaY-exRgtU",
        "outputId": "a7fe7fb9-1858-490d-e1e2-2c3c8fa27205",
        "colab": {
          "base_uri": "https://localhost:8080/"
        }
      },
      "execution_count": 15,
      "outputs": [
        {
          "output_type": "stream",
          "name": "stdout",
          "text": [
            "[500000.      0.      0.      0.      0.      0.      0.      0.      0.\n",
            "      0.      0.      0.      0.]\n"
          ]
        }
      ]
    },
    {
      "cell_type": "code",
      "source": [
        "# Sorting the Existing Stories\n",
        "sorted_stories = np.sort(existing_stories)\n",
        "\n",
        "top_5_stories = sorted_stories[-5:]\n",
        "bottom_5_stories = sorted_stories[:5]\n",
        "\n",
        "print('Top 5 Stories:',top_5_stories)\n",
        "print('Bottom 5 Stories:',bottom_5_stories)"
      ],
      "metadata": {
        "_uuid": "459d4b6c-1986-4d0c-a4f2-a8beaa222274",
        "_cell_guid": "973de77f-6a02-4d95-a39f-c3843795c14b",
        "jupyter": {
          "outputs_hidden": false
        },
        "execution": {
          "iopub.status.busy": "2024-07-15T05:41:07.057372Z",
          "iopub.execute_input": "2024-07-15T05:41:07.057784Z",
          "iopub.status.idle": "2024-07-15T05:41:07.070266Z",
          "shell.execute_reply.started": "2024-07-15T05:41:07.057687Z",
          "shell.execute_reply": "2024-07-15T05:41:07.06762Z"
        },
        "trusted": true,
        "id": "4RYXSZR1RgtU",
        "outputId": "f3bd3557-6551-452c-ac84-6df39269e00a",
        "colab": {
          "base_uri": "https://localhost:8080/"
        }
      },
      "execution_count": 16,
      "outputs": [
        {
          "output_type": "stream",
          "name": "stdout",
          "text": [
            "Top 5 Stories: [37. 37. 48. 54. 54.]\n",
            "Bottom 5 Stories: [17. 17. 23. 29. 29.]\n"
          ]
        }
      ]
    },
    {
      "cell_type": "code",
      "source": [
        "mean_existing_units = np.mean(existing_units)\n",
        "median_existing_stories = np.median(existing_stories)\n",
        "avg_estimated_cost = np.average(estimated_cost)\n",
        "\n",
        "print(\"Mean of Existing Units:\",mean_existing_units)\n",
        "print(\"Median of Existing Stories:\",median_existing_stories)\n",
        "print(\"Average of Estimated Cost:\",avg_estimated_cost)"
      ],
      "metadata": {
        "_uuid": "b1a395bd-2812-4c0a-a9a0-983701f3e146",
        "_cell_guid": "319d0ae7-ab8a-4a53-8ecb-12f0f263fa58",
        "jupyter": {
          "outputs_hidden": false
        },
        "execution": {
          "iopub.status.busy": "2024-07-15T05:41:07.071948Z",
          "iopub.execute_input": "2024-07-15T05:41:07.072371Z",
          "iopub.status.idle": "2024-07-15T05:41:07.083429Z",
          "shell.execute_reply.started": "2024-07-15T05:41:07.072334Z",
          "shell.execute_reply": "2024-07-15T05:41:07.082193Z"
        },
        "trusted": true,
        "id": "Nwq2bJ2sRgtU",
        "outputId": "e268ae11-8b32-4a0c-83ed-cf0746fbaa73",
        "colab": {
          "base_uri": "https://localhost:8080/"
        }
      },
      "execution_count": 17,
      "outputs": [
        {
          "output_type": "stream",
          "name": "stdout",
          "text": [
            "Mean of Existing Units: 223.30769230769232\n",
            "Median of Existing Stories: 29.0\n",
            "Average of Estimated Cost: 2980851.846153846\n"
          ]
        }
      ]
    },
    {
      "cell_type": "code",
      "source": [
        "import matplotlib.pyplot as plt\n",
        "#Plotting Top 5 Tallest Buildings in a Histogram\n",
        "plt.barh(range(len(top_5_stories)), top_5_stories, color='red')\n",
        "plt.ylabel('Building Ranks')\n",
        "plt.xlabel('No. of Stories')\n",
        "plt.title('Top {} Building as per Existing Stories'.format(len(top_5_stories)))"
      ],
      "metadata": {
        "_uuid": "c8b582b8-f8ab-48f3-8c6b-a40806511035",
        "_cell_guid": "f201bafa-f42e-4279-92af-eb5bce853667",
        "jupyter": {
          "outputs_hidden": false
        },
        "execution": {
          "iopub.status.busy": "2024-07-15T05:41:07.085495Z",
          "iopub.execute_input": "2024-07-15T05:41:07.087458Z",
          "iopub.status.idle": "2024-07-15T05:41:07.435279Z",
          "shell.execute_reply.started": "2024-07-15T05:41:07.087407Z",
          "shell.execute_reply": "2024-07-15T05:41:07.433863Z"
        },
        "trusted": true,
        "id": "Q4OMw4lTRgtV",
        "outputId": "d05f13c4-6f9c-423d-b361-46fab4909ce7",
        "colab": {
          "base_uri": "https://localhost:8080/",
          "height": 489
        }
      },
      "execution_count": 18,
      "outputs": [
        {
          "output_type": "execute_result",
          "data": {
            "text/plain": [
              "Text(0.5, 1.0, 'Top 5 Building as per Existing Stories')"
            ]
          },
          "metadata": {},
          "execution_count": 18
        },
        {
          "output_type": "display_data",
          "data": {
            "text/plain": [
              "<Figure size 640x480 with 1 Axes>"
            ],
            "image/png": "[encoded data removed]"
          },
          "metadata": {}
        }
      ]
    },
    {
      "cell_type": "code",
      "source": [
        "# Customising the Plot Y Labels\n",
        "plt.barh(range(len(top_5_stories)), top_5_stories, color='#FF2E63')\n",
        "plt.ylabel('Building Ranks')\n",
        "plt.xlabel('No. of Stories')\n",
        "plt.title('Top {} Building as per Existing Stories'.format(len(top_5_stories)))\n",
        "plt.yticks(range(len(top_5_stories)), ['Building {}'.format(i+1) for i in range(len(top_5_stories))])"
      ],
      "metadata": {
        "_uuid": "965892eb-4d72-4087-bdd6-7e78126d0e4c",
        "_cell_guid": "d382d734-619a-44ad-96f0-cbee8ebc7b6a",
        "jupyter": {
          "outputs_hidden": false
        },
        "execution": {
          "iopub.status.busy": "2024-07-15T05:41:07.436714Z",
          "iopub.execute_input": "2024-07-15T05:41:07.437156Z",
          "iopub.status.idle": "2024-07-15T05:41:07.7075Z",
          "shell.execute_reply.started": "2024-07-15T05:41:07.437101Z",
          "shell.execute_reply": "2024-07-15T05:41:07.705791Z"
        },
        "trusted": true,
        "id": "PeasCLHaRgtV",
        "outputId": "1467c284-1687-470e-aef5-7e906bc4806e",
        "colab": {
          "base_uri": "https://localhost:8080/",
          "height": 646
        }
      },
      "execution_count": 19,
      "outputs": [
        {
          "output_type": "execute_result",
          "data": {
            "text/plain": [
              "([<matplotlib.axis.YTick at 0x7ce34716d8d0>,\n",
              "  <matplotlib.axis.YTick at 0x7ce34716d270>,\n",
              "  <matplotlib.axis.YTick at 0x7ce34716c250>,\n",
              "  <matplotlib.axis.YTick at 0x7ce347195510>,\n",
              "  <matplotlib.axis.YTick at 0x7ce347195fc0>],\n",
              " [Text(0, 0, 'Building 1'),\n",
              "  Text(0, 1, 'Building 2'),\n",
              "  Text(0, 2, 'Building 3'),\n",
              "  Text(0, 3, 'Building 4'),\n",
              "  Text(0, 4, 'Building 5')])"
            ]
          },
          "metadata": {},
          "execution_count": 19
        },
        {
          "output_type": "display_data",
          "data": {
            "text/plain": [
              "<Figure size 640x480 with 1 Axes>"
            ],
            "image/png": "[encoded data removed]"
          },
          "metadata": {}
        }
      ]
    },
    {
      "cell_type": "code",
      "source": [
        "#Adding a Grid across X Axis\n",
        "plt.barh(range(len(top_5_stories)), top_5_stories, color='#FF2E63')\n",
        "plt.ylabel('Building Ranks')\n",
        "plt.xlabel('No. of Stories')\n",
        "plt.title('Top {} Building as per Existing Stories'.format(len(top_5_stories)))\n",
        "plt.yticks(range(len(top_5_stories)), ['Building {}'.format(i+1) for i in range(len(top_5_stories))])\n",
        "plt.grid(axis='x')"
      ],
      "metadata": {
        "_uuid": "1a000af2-bdce-4f26-89a9-1fc069e503dd",
        "_cell_guid": "a9394127-b92b-4fce-ab10-64c3764209e1",
        "jupyter": {
          "outputs_hidden": false
        },
        "execution": {
          "iopub.status.busy": "2024-07-15T05:41:07.709088Z",
          "iopub.execute_input": "2024-07-15T05:41:07.710608Z",
          "iopub.status.idle": "2024-07-15T05:41:07.982161Z",
          "shell.execute_reply.started": "2024-07-15T05:41:07.710559Z",
          "shell.execute_reply": "2024-07-15T05:41:07.980598Z"
        },
        "trusted": true,
        "id": "2AYIWg1CRgtW",
        "outputId": "1f6e6de4-55b4-4019-d283-bb1ebbf9e424",
        "colab": {
          "base_uri": "https://localhost:8080/",
          "height": 472
        }
      },
      "execution_count": 20,
      "outputs": [
        {
          "output_type": "display_data",
          "data": {
            "text/plain": [
              "<Figure size 640x480 with 1 Axes>"
            ],
            "image/png": "[encoded data removed]"
          },
          "metadata": {}
        }
      ]
    },
    {
      "cell_type": "code",
      "source": [
        "print(df_filtered.tail())"
      ],
      "metadata": {
        "_uuid": "ec25a0e0-3aff-4a0a-88f6-7281512db21a",
        "_cell_guid": "1ba04cf2-077e-4305-8d6d-5276f1f8cc26",
        "jupyter": {
          "outputs_hidden": false
        },
        "execution": {
          "iopub.status.busy": "2024-07-15T05:41:07.983843Z",
          "iopub.execute_input": "2024-07-15T05:41:07.984451Z",
          "iopub.status.idle": "2024-07-15T05:41:08.00275Z",
          "shell.execute_reply.started": "2024-07-15T05:41:07.984402Z",
          "shell.execute_reply": "2024-07-15T05:41:08.001292Z"
        },
        "trusted": true,
        "id": "-qO-gN8-RgtX",
        "outputId": "724fd1e3-b1e0-4d1d-92c1-e808881941d7",
        "colab": {
          "base_uri": "https://localhost:8080/"
        }
      },
      "execution_count": 21,
      "outputs": [
        {
          "output_type": "stream",
          "name": "stdout",
          "text": [
            "       Permit Number  Permit Type            Permit Type Definition  \\\n",
            "73517   201501226451            3  additions alterations or repairs   \n",
            "73518   201501226451            3  additions alterations or repairs   \n",
            "73519   201501226451            3  additions alterations or repairs   \n",
            "89414   201506189323            3  additions alterations or repairs   \n",
            "171897  201506058287            3  additions alterations or repairs   \n",
            "\n",
            "       Permit Creation Date Block  Lot  Street Number Street Number Suffix  \\\n",
            "73517            01/22/2015  0813  008           1390                    0   \n",
            "73518            01/22/2015  0813  009           1390                    0   \n",
            "73519            01/22/2015  0813  010           1390                    0   \n",
            "89414            06/18/2015  3701  065           1275                    0   \n",
            "171897           06/05/2015  3701  065           1275                    0   \n",
            "\n",
            "       Street Name Street Suffix  ...  Existing Construction Type  \\\n",
            "73517       Market            St  ...                         1.0   \n",
            "73518       Market            St  ...                         1.0   \n",
            "73519       Market            St  ...                         1.0   \n",
            "89414       Market            St  ...                         1.0   \n",
            "171897      Market            St  ...                         1.0   \n",
            "\n",
            "       Existing Construction Type Description Proposed Construction Type  \\\n",
            "73517                           constr type 1                        1.0   \n",
            "73518                           constr type 1                        1.0   \n",
            "73519                           constr type 1                        1.0   \n",
            "89414                           constr type 1                        1.0   \n",
            "171897                          constr type 1                        1.0   \n",
            "\n",
            "       Proposed Construction Type Description Site Permit Supervisor District  \\\n",
            "73517                           constr type 1           Y                 6.0   \n",
            "73518                           constr type 1           Y                 6.0   \n",
            "73519                           constr type 1           Y                 6.0   \n",
            "89414                           constr type 1           Y                 6.0   \n",
            "171897                          constr type 1           Y                 6.0   \n",
            "\n",
            "       Neighborhoods - Analysis Boundaries  Zipcode  \\\n",
            "73517                           Tenderloin  94102.0   \n",
            "73518                           Tenderloin  94102.0   \n",
            "73519                           Tenderloin  94102.0   \n",
            "89414                      South of Market  94103.0   \n",
            "171897                     South of Market  94103.0   \n",
            "\n",
            "                                        Location      Record ID  \n",
            "73517   (37.77714337988543, -122.41722981059696)  1368646469168  \n",
            "73518   (37.77714337988543, -122.41722981059696)  1368647469169  \n",
            "73519   (37.77714337988543, -122.41722981059696)  1368648469170  \n",
            "89414   (37.77752582760235, -122.41537603649628)  1385587458145  \n",
            "171897  (37.77752582760235, -122.41537603649628)  1384214458145  \n",
            "\n",
            "[5 rows x 43 columns]\n"
          ]
        }
      ]
    }
  ]
}