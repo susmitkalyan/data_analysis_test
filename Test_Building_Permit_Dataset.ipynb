{
  "metadata": {
    "kernelspec": {
      "language": "python",
      "display_name": "Python 3",
      "name": "python3"
    },
    "language_info": {
      "name": "python",
      "version": "3.10.13",
      "mimetype": "text/x-python",
      "codemirror_mode": {
        "name": "ipython",
        "version": 3
      },
      "pygments_lexer": "ipython3",
      "nbconvert_exporter": "python",
      "file_extension": ".py"
    },
    "kaggle": {
      "accelerator": "none",
      "dataSources": [
        {
          "sourceId": 21688,
          "sourceType": "datasetVersion",
          "datasetId": 16432
        }
      ],
      "dockerImageVersionId": 30746,
      "isInternetEnabled": false,
      "language": "python",
      "sourceType": "notebook",
      "isGpuEnabled": false
    },
    "colab": {
      "name": "Test Building Permit Dataset",
      "provenance": [],
      "include_colab_link": true
    }
  },
  "nbformat_minor": 0,
  "nbformat": 4,
  "cells": [
    {
      "cell_type": "markdown",
      "metadata": {
        "id": "view-in-github",
        "colab_type": "text"
      },
      "source": [
        "<a href=\"https://colab.research.google.com/github/susmitkalyan/data_analysis_test/blob/main/Test_Building_Permit_Dataset.ipynb\" target=\"_parent\"><img src=\"https://colab.research.google.com/assets/colab-badge.svg\" alt=\"Open In Colab\"/></a>"
      ]
    },
    {
      "cell_type": "code",
      "source": [
        "import os\n",
        "print(os.listdir('../input/building-permit-applications-data'))"
      ],
      "metadata": {
        "_uuid": "8f2839f25d086af736a60e9eeb907d3b93b6e0e5",
        "_cell_guid": "b1076dfc-b9ad-4769-8c92-a6c4dae69d19",
        "execution": {
          "iopub.status.busy": "2024-07-14T13:26:35.294527Z",
          "iopub.execute_input": "2024-07-14T13:26:35.294911Z",
          "iopub.status.idle": "2024-07-14T13:26:35.339189Z",
          "shell.execute_reply.started": "2024-07-14T13:26:35.29488Z",
          "shell.execute_reply": "2024-07-14T13:26:35.33808Z"
        },
        "trusted": true,
        "colab": {
          "base_uri": "https://localhost:8080/"
        },
        "id": "FtmEUwNRetgO",
        "outputId": "2a7db97a-9f26-413e-b1e6-85961c3044e2"
      },
      "execution_count": 25,
      "outputs": [
        {
          "output_type": "stream",
          "name": "stdout",
          "text": [
            "['DataDictionaryBuildingPermit.xlsx', 'Building_Permits.csv']\n"
          ]
        }
      ]
    },
    {
      "cell_type": "code",
      "source": [
        "import pandas as pd\n",
        "df = pd.read_csv('../input/building-permit-applications-data/Building_Permits.csv')"
      ],
      "metadata": {
        "execution": {
          "iopub.status.busy": "2024-07-14T13:26:35.340931Z",
          "iopub.execute_input": "2024-07-14T13:26:35.341716Z",
          "iopub.status.idle": "2024-07-14T13:26:39.461539Z",
          "shell.execute_reply.started": "2024-07-14T13:26:35.341683Z",
          "shell.execute_reply": "2024-07-14T13:26:39.460235Z"
        },
        "trusted": true,
        "colab": {
          "base_uri": "https://localhost:8080/"
        },
        "id": "7nyNeTohetgS",
        "outputId": "6172a4b3-f816-4f32-a105-b10e6bb85db4"
      },
      "execution_count": 26,
      "outputs": [
        {
          "output_type": "stream",
          "name": "stderr",
          "text": [
            "<ipython-input-26-2bf95a09bb04>:2: DtypeWarning: Columns (22,32) have mixed types. Specify dtype option on import or set low_memory=False.\n",
            "  df = pd.read_csv('../input/building-permit-applications-data/Building_Permits.csv')\n"
          ]
        }
      ]
    },
    {
      "cell_type": "code",
      "source": [
        "print(\"First Few Rows of the Data Set: \\n\")\n",
        "print(df.head())"
      ],
      "metadata": {
        "execution": {
          "iopub.status.busy": "2024-07-14T13:26:39.462836Z",
          "iopub.execute_input": "2024-07-14T13:26:39.463162Z",
          "iopub.status.idle": "2024-07-14T13:26:39.494708Z",
          "shell.execute_reply.started": "2024-07-14T13:26:39.463132Z",
          "shell.execute_reply": "2024-07-14T13:26:39.493672Z"
        },
        "trusted": true,
        "colab": {
          "base_uri": "https://localhost:8080/"
        },
        "id": "QHcZGSa_etgT",
        "outputId": "55a4c750-feab-4670-b284-19184d054533"
      },
      "execution_count": 27,
      "outputs": [
        {
          "output_type": "stream",
          "name": "stdout",
          "text": [
            "First Few Rows of the Data Set: \n",
            "\n",
            "  Permit Number  Permit Type            Permit Type Definition  \\\n",
            "0  201505065519            4                      sign - erect   \n",
            "1  201604195146            4                      sign - erect   \n",
            "2  201605278609            3  additions alterations or repairs   \n",
            "3  201611072166            8            otc alterations permit   \n",
            "4  201611283529            6                       demolitions   \n",
            "\n",
            "  Permit Creation Date Block  Lot  Street Number Street Number Suffix  \\\n",
            "0           05/06/2015  0326  023            140                  NaN   \n",
            "1           04/19/2016  0306  007            440                  NaN   \n",
            "2           05/27/2016  0595  203           1647                  NaN   \n",
            "3           11/07/2016  0156  011           1230                  NaN   \n",
            "4           11/28/2016  0342  001            950                  NaN   \n",
            "\n",
            "  Street Name Street Suffix  ...  Existing Construction Type  \\\n",
            "0       Ellis            St  ...                         3.0   \n",
            "1       Geary            St  ...                         3.0   \n",
            "2     Pacific            Av  ...                         1.0   \n",
            "3     Pacific            Av  ...                         5.0   \n",
            "4      Market            St  ...                         3.0   \n",
            "\n",
            "  Existing Construction Type Description Proposed Construction Type  \\\n",
            "0                          constr type 3                        NaN   \n",
            "1                          constr type 3                        NaN   \n",
            "2                          constr type 1                        1.0   \n",
            "3                         wood frame (5)                        5.0   \n",
            "4                          constr type 3                        NaN   \n",
            "\n",
            "  Proposed Construction Type Description Site Permit Supervisor District  \\\n",
            "0                                    NaN         NaN                 3.0   \n",
            "1                                    NaN         NaN                 3.0   \n",
            "2                          constr type 1         NaN                 3.0   \n",
            "3                         wood frame (5)         NaN                 3.0   \n",
            "4                                    NaN         NaN                 6.0   \n",
            "\n",
            "  Neighborhoods - Analysis Boundaries  Zipcode  \\\n",
            "0                          Tenderloin  94102.0   \n",
            "1                          Tenderloin  94102.0   \n",
            "2                        Russian Hill  94109.0   \n",
            "3                            Nob Hill  94109.0   \n",
            "4                          Tenderloin  94102.0   \n",
            "\n",
            "                                    Location      Record ID  \n",
            "0  (37.785719256680785, -122.40852313194863)  1380611233945  \n",
            "1   (37.78733980600732, -122.41063199757738)  1420164406718  \n",
            "2    (37.7946573324287, -122.42232562979227)  1424856504716  \n",
            "3   (37.79595867909168, -122.41557405519474)  1443574295566  \n",
            "4   (37.78315261897309, -122.40950883997789)   144548169992  \n",
            "\n",
            "[5 rows x 43 columns]\n"
          ]
        }
      ]
    },
    {
      "cell_type": "code",
      "source": [
        "print(\"Summary: \\n\")\n",
        "print(df.describe())"
      ],
      "metadata": {
        "execution": {
          "iopub.status.busy": "2024-07-14T13:26:39.495974Z",
          "iopub.execute_input": "2024-07-14T13:26:39.496293Z",
          "iopub.status.idle": "2024-07-14T13:26:39.70019Z",
          "shell.execute_reply.started": "2024-07-14T13:26:39.496265Z",
          "shell.execute_reply": "2024-07-14T13:26:39.69911Z"
        },
        "trusted": true,
        "colab": {
          "base_uri": "https://localhost:8080/"
        },
        "id": "D_C3fZeaetgU",
        "outputId": "8a457159-a102-4b3c-f53c-77c6ae20cc5e"
      },
      "execution_count": 28,
      "outputs": [
        {
          "output_type": "stream",
          "name": "stdout",
          "text": [
            "Summary: \n",
            "\n",
            "         Permit Type  Street Number          Unit  Number of Existing Stories  \\\n",
            "count  198900.000000  198900.000000  29479.000000               156116.000000   \n",
            "mean        7.522323    1121.728944     78.517182                    5.705773   \n",
            "std         1.457451    1135.768948    326.981324                    8.613455   \n",
            "min         1.000000       0.000000      0.000000                    0.000000   \n",
            "25%         8.000000     235.000000      0.000000                    2.000000   \n",
            "50%         8.000000     710.000000      0.000000                    3.000000   \n",
            "75%         8.000000    1700.000000      1.000000                    4.000000   \n",
            "max         8.000000    8400.000000   6004.000000                   78.000000   \n",
            "\n",
            "       Number of Proposed Stories  Estimated Cost  Revised Cost  \\\n",
            "count               156032.000000    1.608340e+05  1.928340e+05   \n",
            "mean                     5.745043    1.689554e+05  1.328562e+05   \n",
            "std                      8.613284    3.630386e+06  3.584903e+06   \n",
            "min                      0.000000    1.000000e+00  0.000000e+00   \n",
            "25%                      2.000000    3.300000e+03  1.000000e+00   \n",
            "50%                      3.000000    1.100000e+04  7.000000e+03   \n",
            "75%                      4.000000    3.500000e+04  2.870750e+04   \n",
            "max                     78.000000    5.379586e+08  7.805000e+08   \n",
            "\n",
            "       Existing Units  Proposed Units       Plansets  \\\n",
            "count   147362.000000   147989.000000  161591.000000   \n",
            "mean        15.666164       16.510950       1.274650   \n",
            "std         74.476321       75.220444      22.407345   \n",
            "min          0.000000        0.000000       0.000000   \n",
            "25%          1.000000        1.000000       0.000000   \n",
            "50%          1.000000        2.000000       2.000000   \n",
            "75%          4.000000        4.000000       2.000000   \n",
            "max       1907.000000     1911.000000    9000.000000   \n",
            "\n",
            "       Existing Construction Type  Proposed Construction Type  \\\n",
            "count               155534.000000               155738.000000   \n",
            "mean                     4.072878                    4.089529   \n",
            "std                      1.585756                    1.578766   \n",
            "min                      1.000000                    1.000000   \n",
            "25%                      3.000000                    3.000000   \n",
            "50%                      5.000000                    5.000000   \n",
            "75%                      5.000000                    5.000000   \n",
            "max                      5.000000                    5.000000   \n",
            "\n",
            "       Supervisor District        Zipcode     Record ID  \n",
            "count        197183.000000  197184.000000  1.989000e+05  \n",
            "mean              5.538403   94115.500558  1.162048e+12  \n",
            "std               2.887041       9.270131  4.918215e+11  \n",
            "min               1.000000   94102.000000  1.293532e+10  \n",
            "25%               3.000000   94109.000000  1.308567e+12  \n",
            "50%               6.000000   94114.000000  1.371840e+12  \n",
            "75%               8.000000   94122.000000  1.435000e+12  \n",
            "max              11.000000   94158.000000  1.498342e+12  \n"
          ]
        }
      ]
    },
    {
      "cell_type": "code",
      "source": [
        "print(\"Info:\\n\")\n",
        "print(df.info())"
      ],
      "metadata": {
        "execution": {
          "iopub.status.busy": "2024-07-14T13:26:39.703089Z",
          "iopub.execute_input": "2024-07-14T13:26:39.703455Z",
          "iopub.status.idle": "2024-07-14T13:26:39.964581Z",
          "shell.execute_reply.started": "2024-07-14T13:26:39.703427Z",
          "shell.execute_reply": "2024-07-14T13:26:39.963423Z"
        },
        "trusted": true,
        "colab": {
          "base_uri": "https://localhost:8080/"
        },
        "id": "grceBjeEetgV",
        "outputId": "65d778ed-1a65-4735-91f5-32b2b07813ac"
      },
      "execution_count": 29,
      "outputs": [
        {
          "output_type": "stream",
          "name": "stdout",
          "text": [
            "Info:\n",
            "\n",
            "<class 'pandas.core.frame.DataFrame'>\n",
            "RangeIndex: 198900 entries, 0 to 198899\n",
            "Data columns (total 43 columns):\n",
            " #   Column                                  Non-Null Count   Dtype  \n",
            "---  ------                                  --------------   -----  \n",
            " 0   Permit Number                           198900 non-null  object \n",
            " 1   Permit Type                             198900 non-null  int64  \n",
            " 2   Permit Type Definition                  198900 non-null  object \n",
            " 3   Permit Creation Date                    198900 non-null  object \n",
            " 4   Block                                   198900 non-null  object \n",
            " 5   Lot                                     198900 non-null  object \n",
            " 6   Street Number                           198900 non-null  int64  \n",
            " 7   Street Number Suffix                    2216 non-null    object \n",
            " 8   Street Name                             198900 non-null  object \n",
            " 9   Street Suffix                           196132 non-null  object \n",
            " 10  Unit                                    29479 non-null   float64\n",
            " 11  Unit Suffix                             1961 non-null    object \n",
            " 12  Description                             198610 non-null  object \n",
            " 13  Current Status                          198900 non-null  object \n",
            " 14  Current Status Date                     198900 non-null  object \n",
            " 15  Filed Date                              198900 non-null  object \n",
            " 16  Issued Date                             183960 non-null  object \n",
            " 17  Completed Date                          97191 non-null   object \n",
            " 18  First Construction Document Date        183954 non-null  object \n",
            " 19  Structural Notification                 6922 non-null    object \n",
            " 20  Number of Existing Stories              156116 non-null  float64\n",
            " 21  Number of Proposed Stories              156032 non-null  float64\n",
            " 22  Voluntary Soft-Story Retrofit           35 non-null      object \n",
            " 23  Fire Only Permit                        18827 non-null   object \n",
            " 24  Permit Expiration Date                  147020 non-null  object \n",
            " 25  Estimated Cost                          160834 non-null  float64\n",
            " 26  Revised Cost                            192834 non-null  float64\n",
            " 27  Existing Use                            157786 non-null  object \n",
            " 28  Existing Units                          147362 non-null  float64\n",
            " 29  Proposed Use                            156461 non-null  object \n",
            " 30  Proposed Units                          147989 non-null  float64\n",
            " 31  Plansets                                161591 non-null  float64\n",
            " 32  TIDF Compliance                         2 non-null       object \n",
            " 33  Existing Construction Type              155534 non-null  float64\n",
            " 34  Existing Construction Type Description  155534 non-null  object \n",
            " 35  Proposed Construction Type              155738 non-null  float64\n",
            " 36  Proposed Construction Type Description  155738 non-null  object \n",
            " 37  Site Permit                             5359 non-null    object \n",
            " 38  Supervisor District                     197183 non-null  float64\n",
            " 39  Neighborhoods - Analysis Boundaries     197175 non-null  object \n",
            " 40  Zipcode                                 197184 non-null  float64\n",
            " 41  Location                                197200 non-null  object \n",
            " 42  Record ID                               198900 non-null  int64  \n",
            "dtypes: float64(12), int64(3), object(28)\n",
            "memory usage: 65.3+ MB\n",
            "None\n"
          ]
        }
      ]
    },
    {
      "cell_type": "code",
      "source": [
        "print('Removing rows with missing Estimated Cost and Revised Cost values.')\n",
        "rows_before = df.shape[0]\n",
        "print(\"Rows before Cleaning:\",rows_before)\n",
        "df_cleaned = df.dropna(subset=['Estimated Cost','Revised Cost','Site Permit'])\n",
        "rows_cleaned = df_cleaned.shape[0]\n",
        "print(\"Rows after Cleaning:\",rows_cleaned)"
      ],
      "metadata": {
        "execution": {
          "iopub.status.busy": "2024-07-14T13:26:39.966026Z",
          "iopub.execute_input": "2024-07-14T13:26:39.966389Z",
          "iopub.status.idle": "2024-07-14T13:26:39.992712Z",
          "shell.execute_reply.started": "2024-07-14T13:26:39.966361Z",
          "shell.execute_reply": "2024-07-14T13:26:39.990984Z"
        },
        "trusted": true,
        "colab": {
          "base_uri": "https://localhost:8080/"
        },
        "id": "a9KeHZTLetgX",
        "outputId": "26e67fe8-62a5-4843-ca03-91f5bd350b8c"
      },
      "execution_count": 30,
      "outputs": [
        {
          "output_type": "stream",
          "name": "stdout",
          "text": [
            "Removing rows with missing Estimated Cost and Revised Cost values.\n",
            "Rows before Cleaning: 198900\n",
            "Rows after Cleaning: 3440\n"
          ]
        }
      ]
    },
    {
      "cell_type": "code",
      "source": [
        "print(\"Rows with Zero before filling:\\n\")\n",
        "print(df_cleaned[df_cleaned.isnull().any(axis=1)])"
      ],
      "metadata": {
        "execution": {
          "iopub.status.busy": "2024-07-14T13:26:39.993916Z",
          "iopub.execute_input": "2024-07-14T13:26:39.994313Z",
          "iopub.status.idle": "2024-07-14T13:26:40.030094Z",
          "shell.execute_reply.started": "2024-07-14T13:26:39.994276Z",
          "shell.execute_reply": "2024-07-14T13:26:40.028709Z"
        },
        "trusted": true,
        "colab": {
          "base_uri": "https://localhost:8080/"
        },
        "id": "Uo78Up2MetgY",
        "outputId": "c8edbf1f-195e-4639-9b57-1908ece1207a"
      },
      "execution_count": 31,
      "outputs": [
        {
          "output_type": "stream",
          "name": "stdout",
          "text": [
            "Rows with Zero before filling:\n",
            "\n",
            "       Permit Number  Permit Type            Permit Type Definition  \\\n",
            "176     201707242729            1                  new construction   \n",
            "193     201708023634            1                  new construction   \n",
            "583     201301037112            3  additions alterations or repairs   \n",
            "767     201301047264            2       new construction wood frame   \n",
            "808     201301047294            3  additions alterations or repairs   \n",
            "...              ...          ...                               ...   \n",
            "196886  201607011423            3  additions alterations or repairs   \n",
            "196887  201607011423            3  additions alterations or repairs   \n",
            "197056  201601207494            2       new construction wood frame   \n",
            "198851  201504153737            3  additions alterations or repairs   \n",
            "198852  201504153735            2       new construction wood frame   \n",
            "\n",
            "       Permit Creation Date Block   Lot  Street Number Street Number Suffix  \\\n",
            "176              07/24/2017  3794   003            800                  NaN   \n",
            "193              08/02/2017  1094   001           2675                  NaN   \n",
            "583              01/03/2013  3077   035             54                  NaN   \n",
            "767              01/04/2013  6415   022           1310                    V   \n",
            "808              01/04/2013  7519   014            865                  NaN   \n",
            "...                     ...   ...   ...            ...                  ...   \n",
            "196886           07/01/2016  6597  007S            140                    A   \n",
            "196887           07/01/2016  6597  007S            140                    B   \n",
            "197056           01/20/2016  5550   040            278                  NaN   \n",
            "198851           04/15/2015  6685   049            240                    A   \n",
            "198852           04/15/2015  6685   049            240                  NaN   \n",
            "\n",
            "        Street Name Street Suffix  ...  Existing Construction Type  \\\n",
            "176            02nd            St  ...                         NaN   \n",
            "193           Geary            Bl  ...                         NaN   \n",
            "583     San Jacinto            Wy  ...                         5.0   \n",
            "767          Geneva            Av  ...                         NaN   \n",
            "808          Duncan            St  ...                         5.0   \n",
            "...             ...           ...  ...                         ...   \n",
            "196886      Tiffany            Av  ...                         5.0   \n",
            "196887      Tiffany            Av  ...                         5.0   \n",
            "197056       Ripley            St  ...                         NaN   \n",
            "198851      Chenery            St  ...                         5.0   \n",
            "198852      Chenery            St  ...                         NaN   \n",
            "\n",
            "       Existing Construction Type Description Proposed Construction Type  \\\n",
            "176                                       NaN                        1.0   \n",
            "193                                       NaN                        1.0   \n",
            "583                            wood frame (5)                        5.0   \n",
            "767                                       NaN                        5.0   \n",
            "808                            wood frame (5)                        5.0   \n",
            "...                                       ...                        ...   \n",
            "196886                         wood frame (5)                        5.0   \n",
            "196887                         wood frame (5)                        5.0   \n",
            "197056                                    NaN                        5.0   \n",
            "198851                         wood frame (5)                        5.0   \n",
            "198852                                    NaN                        5.0   \n",
            "\n",
            "       Proposed Construction Type Description Site Permit Supervisor District  \\\n",
            "176                             constr type 1           Y                 6.0   \n",
            "193                             constr type 1           Y                 2.0   \n",
            "583                            wood frame (5)           Y                 7.0   \n",
            "767                            wood frame (5)           Y                11.0   \n",
            "808                            wood frame (5)           Y                 8.0   \n",
            "...                                       ...         ...                 ...   \n",
            "196886                         wood frame (5)           Y                 8.0   \n",
            "196887                         wood frame (5)           Y                 8.0   \n",
            "197056                         wood frame (5)           Y                 9.0   \n",
            "198851                         wood frame (5)           Y                 8.0   \n",
            "198852                         wood frame (5)           Y                 8.0   \n",
            "\n",
            "       Neighborhoods - Analysis Boundaries  Zipcode  \\\n",
            "176                            Mission Bay  94107.0   \n",
            "193                      Lone Mountain/USF  94115.0   \n",
            "583                     West of Twin Peaks  94127.0   \n",
            "767                              Excelsior  94112.0   \n",
            "808                             Noe Valley  94131.0   \n",
            "...                                    ...      ...   \n",
            "196886                      Bernal Heights  94110.0   \n",
            "196887                      Bernal Heights  94110.0   \n",
            "197056                      Bernal Heights  94110.0   \n",
            "198851                           Glen Park  94131.0   \n",
            "198852                           Glen Park  94131.0   \n",
            "\n",
            "                                         Location      Record ID  \n",
            "176     (37.778471641499934, -122.38954138202004)  1471623167863  \n",
            "193      (37.781833472205996, -122.4457308481205)   147295789456  \n",
            "583      (37.73382213394958, -122.46326158518492)  1292213151667  \n",
            "767       (37.7131015368485, -122.43440876409724)  1292403202611  \n",
            "808      (37.745100048535534, -122.4393293596936)  1292444227400  \n",
            "...                                           ...            ...  \n",
            "196886   (37.74499241554082, -122.42163861138275)  1496229510697  \n",
            "196887   (37.74499241554082, -122.42163861138275)  1496230510696  \n",
            "197056    (37.74406962246269, -122.4091348903256)  1496414510702  \n",
            "198851   (37.73832420066468, -122.42656228166192)  1498307510751  \n",
            "198852   (37.73832420066468, -122.42656228166192)  1498308505397  \n",
            "\n",
            "[3440 rows x 43 columns]\n"
          ]
        }
      ]
    },
    {
      "cell_type": "code",
      "source": [
        "print(\"Filling missing values with 0:\\n\")\n",
        "df_filled = df_cleaned.fillna(0)\n",
        "print(df_filled[df_filled.isnull().any(axis=1)])"
      ],
      "metadata": {
        "execution": {
          "iopub.status.busy": "2024-07-14T13:26:40.031705Z",
          "iopub.execute_input": "2024-07-14T13:26:40.033072Z",
          "iopub.status.idle": "2024-07-14T13:26:40.071802Z",
          "shell.execute_reply.started": "2024-07-14T13:26:40.033026Z",
          "shell.execute_reply": "2024-07-14T13:26:40.070704Z"
        },
        "trusted": true,
        "colab": {
          "base_uri": "https://localhost:8080/"
        },
        "id": "EvDwlgCletga",
        "outputId": "5fe1e4e3-2bcb-4146-cd64-3a26b23b76ec"
      },
      "execution_count": 32,
      "outputs": [
        {
          "output_type": "stream",
          "name": "stdout",
          "text": [
            "Filling missing values with 0:\n",
            "\n",
            "Empty DataFrame\n",
            "Columns: [Permit Number, Permit Type, Permit Type Definition, Permit Creation Date, Block, Lot, Street Number, Street Number Suffix, Street Name, Street Suffix, Unit, Unit Suffix, Description, Current Status, Current Status Date, Filed Date, Issued Date, Completed Date, First Construction Document Date, Structural Notification, Number of Existing Stories, Number of Proposed Stories, Voluntary Soft-Story Retrofit, Fire Only Permit, Permit Expiration Date, Estimated Cost, Revised Cost, Existing Use, Existing Units, Proposed Use, Proposed Units, Plansets, TIDF Compliance, Existing Construction Type, Existing Construction Type Description, Proposed Construction Type, Proposed Construction Type Description, Site Permit, Supervisor District, Neighborhoods - Analysis Boundaries, Zipcode, Location, Record ID]\n",
            "Index: []\n",
            "\n",
            "[0 rows x 43 columns]\n"
          ]
        }
      ]
    },
    {
      "cell_type": "code",
      "source": [
        "threshold_value = 15\n",
        "df_filtered = df_filled[df_filled['Number of Existing Stories'] >= threshold_value]\n",
        "rows_filled = df_filled.shape[0]\n",
        "rows_filtered = df_filtered.shape[0]\n",
        "print(\"No. of Rows after Fill:\",rows_filled)\n",
        "print(\"No. of Rows after Filter:\",rows_filtered)\n",
        "print(\"Rows after Filter:\\n\\n\",df_filtered)\n"
      ],
      "metadata": {
        "execution": {
          "iopub.status.busy": "2024-07-14T13:26:40.073316Z",
          "iopub.execute_input": "2024-07-14T13:26:40.073739Z",
          "iopub.status.idle": "2024-07-14T13:26:40.094396Z",
          "shell.execute_reply.started": "2024-07-14T13:26:40.073702Z",
          "shell.execute_reply": "2024-07-14T13:26:40.093191Z"
        },
        "trusted": true,
        "colab": {
          "base_uri": "https://localhost:8080/"
        },
        "id": "A1vB64sAetgc",
        "outputId": "2933d48d-a20c-410a-ee32-ed84d94ecae4"
      },
      "execution_count": 33,
      "outputs": [
        {
          "output_type": "stream",
          "name": "stdout",
          "text": [
            "No. of Rows after Fill: 3440\n",
            "No. of Rows after Filter: 13\n",
            "Rows after Filter:\n",
            "\n",
            "        Permit Number  Permit Type            Permit Type Definition  \\\n",
            "33959   201312164258            3  additions alterations or repairs   \n",
            "45138   201404163418            3  additions alterations or repairs   \n",
            "45139   201404163418            3  additions alterations or repairs   \n",
            "55251   201407211686            3  additions alterations or repairs   \n",
            "55739   201407242073            3  additions alterations or repairs   \n",
            "55964   201407282260            3  additions alterations or repairs   \n",
            "55965   201407282260            3  additions alterations or repairs   \n",
            "73516   201501226451            3  additions alterations or repairs   \n",
            "73517   201501226451            3  additions alterations or repairs   \n",
            "73518   201501226451            3  additions alterations or repairs   \n",
            "73519   201501226451            3  additions alterations or repairs   \n",
            "89414   201506189323            3  additions alterations or repairs   \n",
            "171897  201506058287            3  additions alterations or repairs   \n",
            "\n",
            "       Permit Creation Date Block  Lot  Street Number Street Number Suffix  \\\n",
            "33959            12/16/2013  0295  016            345                    0   \n",
            "45138            04/16/2014  3719  011            181                    0   \n",
            "45139            04/16/2014  3719  010            183                    0   \n",
            "55251            07/21/2014  0263  011            101                    0   \n",
            "55739            07/24/2014  3507  040           1455                    0   \n",
            "55964            07/28/2014  3706  251            765                    0   \n",
            "55965            07/28/2014  3706  252            765                    0   \n",
            "73516            01/22/2015  0813  007           1390                    0   \n",
            "73517            01/22/2015  0813  008           1390                    0   \n",
            "73518            01/22/2015  0813  009           1390                    0   \n",
            "73519            01/22/2015  0813  010           1390                    0   \n",
            "89414            06/18/2015  3701  065           1275                    0   \n",
            "171897           06/05/2015  3701  065           1275                    0   \n",
            "\n",
            "       Street Name Street Suffix  ...  Existing Construction Type  \\\n",
            "33959     Stockton            St  ...                         1.0   \n",
            "45138      Fremont            St  ...                         1.0   \n",
            "45139      Fremont            St  ...                         1.0   \n",
            "55251   California            St  ...                         1.0   \n",
            "55739       Market            St  ...                         1.0   \n",
            "55964       Market            St  ...                         1.0   \n",
            "55965       Market            St  ...                         1.0   \n",
            "73516       Market            St  ...                         1.0   \n",
            "73517       Market            St  ...                         1.0   \n",
            "73518       Market            St  ...                         1.0   \n",
            "73519       Market            St  ...                         1.0   \n",
            "89414       Market            St  ...                         1.0   \n",
            "171897      Market            St  ...                         1.0   \n",
            "\n",
            "       Existing Construction Type Description Proposed Construction Type  \\\n",
            "33959                           constr type 1                        1.0   \n",
            "45138                           constr type 1                        1.0   \n",
            "45139                           constr type 1                        1.0   \n",
            "55251                           constr type 1                        1.0   \n",
            "55739                           constr type 1                        1.0   \n",
            "55964                           constr type 1                        1.0   \n",
            "55965                           constr type 1                        1.0   \n",
            "73516                           constr type 1                        1.0   \n",
            "73517                           constr type 1                        1.0   \n",
            "73518                           constr type 1                        1.0   \n",
            "73519                           constr type 1                        1.0   \n",
            "89414                           constr type 1                        1.0   \n",
            "171897                          constr type 1                        1.0   \n",
            "\n",
            "       Proposed Construction Type Description Site Permit Supervisor District  \\\n",
            "33959                           constr type 1           Y                 3.0   \n",
            "45138                           constr type 1           Y                 6.0   \n",
            "45139                           constr type 1           Y                 6.0   \n",
            "55251                           constr type 1           Y                 3.0   \n",
            "55739                           constr type 1           Y                 6.0   \n",
            "55964                           constr type 1           Y                 6.0   \n",
            "55965                           constr type 1           Y                 6.0   \n",
            "73516                           constr type 1           Y                 6.0   \n",
            "73517                           constr type 1           Y                 6.0   \n",
            "73518                           constr type 1           Y                 6.0   \n",
            "73519                           constr type 1           Y                 6.0   \n",
            "89414                           constr type 1           Y                 6.0   \n",
            "171897                          constr type 1           Y                 6.0   \n",
            "\n",
            "       Neighborhoods - Analysis Boundaries  Zipcode  \\\n",
            "33959       Financial District/South Beach  94108.0   \n",
            "45138       Financial District/South Beach  94105.0   \n",
            "45139       Financial District/South Beach  94105.0   \n",
            "55251       Financial District/South Beach  94111.0   \n",
            "55739                      South of Market  94103.0   \n",
            "55964       Financial District/South Beach  94103.0   \n",
            "55965       Financial District/South Beach  94103.0   \n",
            "73516                           Tenderloin  94102.0   \n",
            "73517                           Tenderloin  94102.0   \n",
            "73518                           Tenderloin  94102.0   \n",
            "73519                           Tenderloin  94102.0   \n",
            "89414                      South of Market  94103.0   \n",
            "171897                     South of Market  94103.0   \n",
            "\n",
            "                                         Location      Record ID  \n",
            "33959     (37.7889220191042, -122.40718205137844)  1327196412943  \n",
            "45138    (37.78980056380927, -122.39532706257731)  1338890358581  \n",
            "45139   (37.789642439733605, -122.39522078848411)  1338891164656  \n",
            "55251    (37.79294896659241, -122.39809861435491)   134947266081  \n",
            "55739     (37.77523036414975, -122.4174703200545)  1349973394002  \n",
            "55964      (37.786217333195, -122.40430095367158)  1350204435330  \n",
            "55965      (37.786217333195, -122.40430095367158)  1350205435331  \n",
            "73516    (37.77714337988543, -122.41722981059696)  1368645469167  \n",
            "73517    (37.77714337988543, -122.41722981059696)  1368646469168  \n",
            "73518    (37.77714337988543, -122.41722981059696)  1368647469169  \n",
            "73519    (37.77714337988543, -122.41722981059696)  1368648469170  \n",
            "89414    (37.77752582760235, -122.41537603649628)  1385587458145  \n",
            "171897   (37.77752582760235, -122.41537603649628)  1384214458145  \n",
            "\n",
            "[13 rows x 43 columns]\n"
          ]
        }
      ]
    },
    {
      "cell_type": "code",
      "source": [
        "## Printing the last 5 Rows of a Data Set\n",
        "print(df_filtered.tail())"
      ],
      "metadata": {
        "execution": {
          "iopub.status.busy": "2024-07-14T13:26:40.095856Z",
          "iopub.execute_input": "2024-07-14T13:26:40.096266Z",
          "iopub.status.idle": "2024-07-14T13:26:40.119305Z",
          "shell.execute_reply.started": "2024-07-14T13:26:40.096228Z",
          "shell.execute_reply": "2024-07-14T13:26:40.118112Z"
        },
        "trusted": true,
        "colab": {
          "base_uri": "https://localhost:8080/"
        },
        "id": "EsyU_0PKetgd",
        "outputId": "461f4edc-5e02-4817-d7b4-4315ad1d705d"
      },
      "execution_count": 34,
      "outputs": [
        {
          "output_type": "stream",
          "name": "stdout",
          "text": [
            "       Permit Number  Permit Type            Permit Type Definition  \\\n",
            "73517   201501226451            3  additions alterations or repairs   \n",
            "73518   201501226451            3  additions alterations or repairs   \n",
            "73519   201501226451            3  additions alterations or repairs   \n",
            "89414   201506189323            3  additions alterations or repairs   \n",
            "171897  201506058287            3  additions alterations or repairs   \n",
            "\n",
            "       Permit Creation Date Block  Lot  Street Number Street Number Suffix  \\\n",
            "73517            01/22/2015  0813  008           1390                    0   \n",
            "73518            01/22/2015  0813  009           1390                    0   \n",
            "73519            01/22/2015  0813  010           1390                    0   \n",
            "89414            06/18/2015  3701  065           1275                    0   \n",
            "171897           06/05/2015  3701  065           1275                    0   \n",
            "\n",
            "       Street Name Street Suffix  ...  Existing Construction Type  \\\n",
            "73517       Market            St  ...                         1.0   \n",
            "73518       Market            St  ...                         1.0   \n",
            "73519       Market            St  ...                         1.0   \n",
            "89414       Market            St  ...                         1.0   \n",
            "171897      Market            St  ...                         1.0   \n",
            "\n",
            "       Existing Construction Type Description Proposed Construction Type  \\\n",
            "73517                           constr type 1                        1.0   \n",
            "73518                           constr type 1                        1.0   \n",
            "73519                           constr type 1                        1.0   \n",
            "89414                           constr type 1                        1.0   \n",
            "171897                          constr type 1                        1.0   \n",
            "\n",
            "       Proposed Construction Type Description Site Permit Supervisor District  \\\n",
            "73517                           constr type 1           Y                 6.0   \n",
            "73518                           constr type 1           Y                 6.0   \n",
            "73519                           constr type 1           Y                 6.0   \n",
            "89414                           constr type 1           Y                 6.0   \n",
            "171897                          constr type 1           Y                 6.0   \n",
            "\n",
            "       Neighborhoods - Analysis Boundaries  Zipcode  \\\n",
            "73517                           Tenderloin  94102.0   \n",
            "73518                           Tenderloin  94102.0   \n",
            "73519                           Tenderloin  94102.0   \n",
            "89414                      South of Market  94103.0   \n",
            "171897                     South of Market  94103.0   \n",
            "\n",
            "                                        Location      Record ID  \n",
            "73517   (37.77714337988543, -122.41722981059696)  1368646469168  \n",
            "73518   (37.77714337988543, -122.41722981059696)  1368647469169  \n",
            "73519   (37.77714337988543, -122.41722981059696)  1368648469170  \n",
            "89414   (37.77752582760235, -122.41537603649628)  1385587458145  \n",
            "171897  (37.77752582760235, -122.41537603649628)  1384214458145  \n",
            "\n",
            "[5 rows x 43 columns]\n"
          ]
        }
      ]
    },
    {
      "cell_type": "code",
      "source": [
        "import numpy as np"
      ],
      "metadata": {
        "execution": {
          "iopub.status.busy": "2024-07-14T13:26:40.123732Z",
          "iopub.execute_input": "2024-07-14T13:26:40.124312Z",
          "iopub.status.idle": "2024-07-14T13:26:40.134555Z",
          "shell.execute_reply.started": "2024-07-14T13:26:40.124279Z",
          "shell.execute_reply": "2024-07-14T13:26:40.132978Z"
        },
        "trusted": true,
        "id": "KxNLCOPqetge"
      },
      "execution_count": 35,
      "outputs": []
    },
    {
      "cell_type": "code",
      "source": [
        "estimated_cost = df_filtered['Estimated Cost'].to_numpy()\n",
        "revised_cost = df_filtered['Revised Cost'].to_numpy()\n",
        "existing_units = df_filtered['Existing Units'].to_numpy()\n",
        "proposed_units = df_filtered['Proposed Units'].to_numpy()\n",
        "existing_stories = df_filtered['Number of Existing Stories'].to_numpy()\n",
        "proposed_stories = df_filtered['Number of Proposed Stories'].to_numpy()"
      ],
      "metadata": {
        "execution": {
          "iopub.status.busy": "2024-07-14T13:26:40.140116Z",
          "iopub.execute_input": "2024-07-14T13:26:40.140604Z",
          "iopub.status.idle": "2024-07-14T13:26:40.150433Z",
          "shell.execute_reply.started": "2024-07-14T13:26:40.14056Z",
          "shell.execute_reply": "2024-07-14T13:26:40.148867Z"
        },
        "trusted": true,
        "id": "Rba01blFetgh"
      },
      "execution_count": 36,
      "outputs": []
    },
    {
      "cell_type": "code",
      "source": [
        "# Element-wise Substraction\n",
        "cost_diff = np.subtract(revised_cost, estimated_cost)\n",
        "print(cost_diff)"
      ],
      "metadata": {
        "execution": {
          "iopub.status.busy": "2024-07-14T13:26:40.152081Z",
          "iopub.execute_input": "2024-07-14T13:26:40.152675Z",
          "iopub.status.idle": "2024-07-14T13:26:40.160841Z",
          "shell.execute_reply.started": "2024-07-14T13:26:40.152638Z",
          "shell.execute_reply": "2024-07-14T13:26:40.159434Z"
        },
        "trusted": true,
        "colab": {
          "base_uri": "https://localhost:8080/"
        },
        "id": "Yf51VfHoetgi",
        "outputId": "cb999171-9e5e-4a91-b6f7-ea89b91519af"
      },
      "execution_count": 37,
      "outputs": [
        {
          "output_type": "stream",
          "name": "stdout",
          "text": [
            "[500000.      0.      0.      0.      0.      0.      0.      0.      0.\n",
            "      0.      0.      0.      0.]\n"
          ]
        }
      ]
    },
    {
      "cell_type": "code",
      "source": [
        "# Sorting the Existing Stories\n",
        "sorted_stories = np.sort(existing_stories)\n",
        "\n",
        "top_5_stories = sorted_stories[-5:]\n",
        "bottom_5_stories = sorted_stories[:5]\n",
        "\n",
        "print('Top 5 Stories:',top_5_stories)\n",
        "print('Bottom 5 Stories:',bottom_5_stories)"
      ],
      "metadata": {
        "execution": {
          "iopub.status.busy": "2024-07-14T13:26:40.166504Z",
          "iopub.execute_input": "2024-07-14T13:26:40.167245Z",
          "iopub.status.idle": "2024-07-14T13:26:40.178073Z",
          "shell.execute_reply.started": "2024-07-14T13:26:40.167203Z",
          "shell.execute_reply": "2024-07-14T13:26:40.176161Z"
        },
        "trusted": true,
        "colab": {
          "base_uri": "https://localhost:8080/"
        },
        "id": "dNyYFlb6etgi",
        "outputId": "9116b4a9-5cca-4609-be7f-3e54152305b3"
      },
      "execution_count": 38,
      "outputs": [
        {
          "output_type": "stream",
          "name": "stdout",
          "text": [
            "Top 5 Stories: [37. 37. 48. 54. 54.]\n",
            "Bottom 5 Stories: [17. 17. 23. 29. 29.]\n"
          ]
        }
      ]
    },
    {
      "cell_type": "code",
      "source": [
        "mean_existing_units = np.mean(existing_units)\n",
        "median_existing_stories = np.median(existing_stories)\n",
        "avg_estimated_cost = np.average(estimated_cost)\n",
        "\n",
        "print(\"Mean of Existing Units:\",mean_existing_units)\n",
        "print(\"Median of Existing Stories:\",median_existing_stories)\n",
        "print(\"Average of Estimated Cost:\",avg_estimated_cost)"
      ],
      "metadata": {
        "execution": {
          "iopub.status.busy": "2024-07-14T13:26:40.17953Z",
          "iopub.execute_input": "2024-07-14T13:26:40.18052Z",
          "iopub.status.idle": "2024-07-14T13:26:40.188624Z",
          "shell.execute_reply.started": "2024-07-14T13:26:40.180477Z",
          "shell.execute_reply": "2024-07-14T13:26:40.187318Z"
        },
        "trusted": true,
        "colab": {
          "base_uri": "https://localhost:8080/"
        },
        "id": "T-0PkTtQetgj",
        "outputId": "e2b08e95-aedf-4da6-9944-e6d76a3e54c6"
      },
      "execution_count": 39,
      "outputs": [
        {
          "output_type": "stream",
          "name": "stdout",
          "text": [
            "Mean of Existing Units: 223.30769230769232\n",
            "Median of Existing Stories: 29.0\n",
            "Average of Estimated Cost: 2980851.846153846\n"
          ]
        }
      ]
    },
    {
      "cell_type": "code",
      "source": [
        "import matplotlib.pyplot as plt\n",
        "#Plotting Top 5 Tallest Buildings in a Histogram\n",
        "plt.barh(range(len(top_5_stories)), top_5_stories, color='green')\n",
        "plt.ylabel('Building Ranks')\n",
        "plt.xlabel('No. of Stories')\n",
        "plt.title('Top {} Building as per Existing Stories'.format(len(top_5_stories)))"
      ],
      "metadata": {
        "execution": {
          "iopub.status.busy": "2024-07-14T13:26:40.190073Z",
          "iopub.execute_input": "2024-07-14T13:26:40.190438Z",
          "iopub.status.idle": "2024-07-14T13:26:40.473808Z",
          "shell.execute_reply.started": "2024-07-14T13:26:40.190384Z",
          "shell.execute_reply": "2024-07-14T13:26:40.472682Z"
        },
        "trusted": true,
        "colab": {
          "base_uri": "https://localhost:8080/",
          "height": 489
        },
        "id": "jtiWMsTLetgj",
        "outputId": "ff14a618-3bcf-485a-9861-d227234d3421"
      },
      "execution_count": 40,
      "outputs": [
        {
          "output_type": "execute_result",
          "data": {
            "text/plain": [
              "Text(0.5, 1.0, 'Top 5 Building as per Existing Stories')"
            ]
          },
          "metadata": {},
          "execution_count": 40
        },
        {
          "output_type": "display_data",
          "data": {
            "text/plain": [
              "<Figure size 640x480 with 1 Axes>"
            ],
            "image/png": "[encoded data removed]"
          },
          "metadata": {}
        }
      ]
    },
    {
      "cell_type": "code",
      "source": [
        "# Customising the Plot Y Labels\n",
        "plt.barh(range(len(top_5_stories)), top_5_stories, color='#FF2E63')\n",
        "plt.ylabel('Building Ranks')\n",
        "plt.xlabel('No. of Stories')\n",
        "plt.title('Top {} Building as per Existing Stories'.format(len(top_5_stories)))\n",
        "plt.yticks(range(len(top_5_stories)), ['Building {}'.format(i+1) for i in range(len(top_5_stories))])"
      ],
      "metadata": {
        "execution": {
          "iopub.status.busy": "2024-07-14T13:26:40.47569Z",
          "iopub.execute_input": "2024-07-14T13:26:40.476114Z",
          "iopub.status.idle": "2024-07-14T13:26:40.690484Z",
          "shell.execute_reply.started": "2024-07-14T13:26:40.476074Z",
          "shell.execute_reply": "2024-07-14T13:26:40.689357Z"
        },
        "trusted": true,
        "colab": {
          "base_uri": "https://localhost:8080/",
          "height": 646
        },
        "id": "oamJAzrOetgo",
        "outputId": "42900b2a-afc1-42d4-d149-4031932f21d3"
      },
      "execution_count": 41,
      "outputs": [
        {
          "output_type": "execute_result",
          "data": {
            "text/plain": [
              "([<matplotlib.axis.YTick at 0x7bbe5685f4c0>,\n",
              "  <matplotlib.axis.YTick at 0x7bbe5685f280>,\n",
              "  <matplotlib.axis.YTick at 0x7bbe5685c5e0>,\n",
              "  <matplotlib.axis.YTick at 0x7bbe56853850>,\n",
              "  <matplotlib.axis.YTick at 0x7bbe56834340>],\n",
              " [Text(0, 0, 'Building 1'),\n",
              "  Text(0, 1, 'Building 2'),\n",
              "  Text(0, 2, 'Building 3'),\n",
              "  Text(0, 3, 'Building 4'),\n",
              "  Text(0, 4, 'Building 5')])"
            ]
          },
          "metadata": {},
          "execution_count": 41
        },
        {
          "output_type": "display_data",
          "data": {
            "text/plain": [
              "<Figure size 640x480 with 1 Axes>"
            ],
            "image/png": "[encoded data removed]"
          },
          "metadata": {}
        }
      ]
    },
    {
      "cell_type": "code",
      "source": [
        "#Adding a Grid across X Axis\n",
        "plt.barh(range(len(top_5_stories)), top_5_stories, color='#FF2E63')\n",
        "plt.ylabel('Building Ranks')\n",
        "plt.xlabel('No. of Stories')\n",
        "plt.title('Top {} Building as per Existing Stories'.format(len(top_5_stories)))\n",
        "plt.yticks(range(len(top_5_stories)), ['Building {}'.format(i+1) for i in range(len(top_5_stories))])\n",
        "plt.grid(axis='x')"
      ],
      "metadata": {
        "execution": {
          "iopub.status.busy": "2024-07-14T13:26:40.691835Z",
          "iopub.execute_input": "2024-07-14T13:26:40.692215Z",
          "iopub.status.idle": "2024-07-14T13:26:40.93827Z",
          "shell.execute_reply.started": "2024-07-14T13:26:40.692183Z",
          "shell.execute_reply": "2024-07-14T13:26:40.936992Z"
        },
        "trusted": true,
        "colab": {
          "base_uri": "https://localhost:8080/",
          "height": 472
        },
        "id": "Oa7o3iPLetgo",
        "outputId": "0b1d1b6e-2c20-4024-f6ea-348d56a5e628"
      },
      "execution_count": 42,
      "outputs": [
        {
          "output_type": "display_data",
          "data": {
            "text/plain": [
              "<Figure size 640x480 with 1 Axes>"
            ],
            "image/png": "[encoded data removed]"
          },
          "metadata": {}
        }
      ]
    },
    {
      "cell_type": "code",
      "source": [
        "print(df_filtered.tail())"
      ],
      "metadata": {
        "execution": {
          "iopub.status.busy": "2024-07-14T13:26:40.939796Z",
          "iopub.execute_input": "2024-07-14T13:26:40.940282Z",
          "iopub.status.idle": "2024-07-14T13:26:40.957187Z",
          "shell.execute_reply.started": "2024-07-14T13:26:40.940241Z",
          "shell.execute_reply": "2024-07-14T13:26:40.955721Z"
        },
        "trusted": true,
        "colab": {
          "base_uri": "https://localhost:8080/"
        },
        "id": "7rFCRJ_yetgp",
        "outputId": "73614221-72b5-4d28-c8ed-b60aeb0abd3b"
      },
      "execution_count": 43,
      "outputs": [
        {
          "output_type": "stream",
          "name": "stdout",
          "text": [
            "       Permit Number  Permit Type            Permit Type Definition  \\\n",
            "73517   201501226451            3  additions alterations or repairs   \n",
            "73518   201501226451            3  additions alterations or repairs   \n",
            "73519   201501226451            3  additions alterations or repairs   \n",
            "89414   201506189323            3  additions alterations or repairs   \n",
            "171897  201506058287            3  additions alterations or repairs   \n",
            "\n",
            "       Permit Creation Date Block  Lot  Street Number Street Number Suffix  \\\n",
            "73517            01/22/2015  0813  008           1390                    0   \n",
            "73518            01/22/2015  0813  009           1390                    0   \n",
            "73519            01/22/2015  0813  010           1390                    0   \n",
            "89414            06/18/2015  3701  065           1275                    0   \n",
            "171897           06/05/2015  3701  065           1275                    0   \n",
            "\n",
            "       Street Name Street Suffix  ...  Existing Construction Type  \\\n",
            "73517       Market            St  ...                         1.0   \n",
            "73518       Market            St  ...                         1.0   \n",
            "73519       Market            St  ...                         1.0   \n",
            "89414       Market            St  ...                         1.0   \n",
            "171897      Market            St  ...                         1.0   \n",
            "\n",
            "       Existing Construction Type Description Proposed Construction Type  \\\n",
            "73517                           constr type 1                        1.0   \n",
            "73518                           constr type 1                        1.0   \n",
            "73519                           constr type 1                        1.0   \n",
            "89414                           constr type 1                        1.0   \n",
            "171897                          constr type 1                        1.0   \n",
            "\n",
            "       Proposed Construction Type Description Site Permit Supervisor District  \\\n",
            "73517                           constr type 1           Y                 6.0   \n",
            "73518                           constr type 1           Y                 6.0   \n",
            "73519                           constr type 1           Y                 6.0   \n",
            "89414                           constr type 1           Y                 6.0   \n",
            "171897                          constr type 1           Y                 6.0   \n",
            "\n",
            "       Neighborhoods - Analysis Boundaries  Zipcode  \\\n",
            "73517                           Tenderloin  94102.0   \n",
            "73518                           Tenderloin  94102.0   \n",
            "73519                           Tenderloin  94102.0   \n",
            "89414                      South of Market  94103.0   \n",
            "171897                     South of Market  94103.0   \n",
            "\n",
            "                                        Location      Record ID  \n",
            "73517   (37.77714337988543, -122.41722981059696)  1368646469168  \n",
            "73518   (37.77714337988543, -122.41722981059696)  1368647469169  \n",
            "73519   (37.77714337988543, -122.41722981059696)  1368648469170  \n",
            "89414   (37.77752582760235, -122.41537603649628)  1385587458145  \n",
            "171897  (37.77752582760235, -122.41537603649628)  1384214458145  \n",
            "\n",
            "[5 rows x 43 columns]\n"
          ]
        }
      ]
    }
  ]
}